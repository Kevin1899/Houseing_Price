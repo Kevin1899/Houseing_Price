{
 "cells": [
  {
   "cell_type": "code",
   "execution_count": null,
   "id": "aa7138f3",
   "metadata": {},
   "outputs": [],
   "source": [
    "# Importing Libraries\n",
    "\n",
    "import numpy as np\n",
    "import pandas as pd\n",
    "\n",
    "# visualization libraries\n",
    "import matplotlib.pyplot as plt\n",
    "import seaborn as sns\n",
    "\n",
    "# Model analysis and building libraries\n",
    "from sklearn.preprocessing import MinMaxScaler\n",
    "from sklearn.model_selection import train_test_split, GridSearchCV\n",
    "from sklearn.feature_selection import RFE\n",
    "from sklearn.linear_model import LinearRegression, Ridge, Lasso\n",
    "from sklearn.metrics import r2_score, mean_squared_error\n",
    "\n",
    "import statsmodels.api as sm\n",
    "from statsmodels.stats.outliers_influence import variance_inflation_factor"
   ]
  },
  {
   "cell_type": "markdown",
   "id": "afcfa088",
   "metadata": {},
   "source": [
    "## Data Sourcing"
   ]
  },
  {
   "cell_type": "code",
   "execution_count": null,
   "id": "c907a5e6",
   "metadata": {},
   "outputs": [],
   "source": [
    "df = pd.read_csv(\"train.csv\")  # Reading CSV file"
   ]
  },
  {
   "cell_type": "code",
   "execution_count": null,
   "id": "b9bfad0e",
   "metadata": {},
   "outputs": [],
   "source": [
    "df.head()  # Fetching first 5 rows from dataset"
   ]
  },
  {
   "cell_type": "markdown",
   "id": "91476200",
   "metadata": {},
   "source": [
    "Understanding the Data"
   ]
  },
  {
   "cell_type": "code",
   "execution_count": 4,
   "id": "774e8ef5",
   "metadata": {},
   "outputs": [
    {
     "name": "stdout",
     "output_type": "stream",
     "text": [
      "<class 'pandas.core.frame.DataFrame'>\n",
      "RangeIndex: 1460 entries, 0 to 1459\n",
      "Data columns (total 81 columns):\n",
      " #   Column         Non-Null Count  Dtype  \n",
      "---  ------         --------------  -----  \n",
      " 0   Id             1460 non-null   int64  \n",
      " 1   MSSubClass     1460 non-null   int64  \n",
      " 2   MSZoning       1460 non-null   object \n",
      " 3   LotFrontage    1201 non-null   float64\n",
      " 4   LotArea        1460 non-null   int64  \n",
      " 5   Street         1460 non-null   object \n",
      " 6   Alley          91 non-null     object \n",
      " 7   LotShape       1460 non-null   object \n",
      " 8   LandContour    1460 non-null   object \n",
      " 9   Utilities      1460 non-null   object \n",
      " 10  LotConfig      1460 non-null   object \n",
      " 11  LandSlope      1460 non-null   object \n",
      " 12  Neighborhood   1460 non-null   object \n",
      " 13  Condition1     1460 non-null   object \n",
      " 14  Condition2     1460 non-null   object \n",
      " 15  BldgType       1460 non-null   object \n",
      " 16  HouseStyle     1460 non-null   object \n",
      " 17  OverallQual    1460 non-null   int64  \n",
      " 18  OverallCond    1460 non-null   int64  \n",
      " 19  YearBuilt      1460 non-null   int64  \n",
      " 20  YearRemodAdd   1460 non-null   int64  \n",
      " 21  RoofStyle      1460 non-null   object \n",
      " 22  RoofMatl       1460 non-null   object \n",
      " 23  Exterior1st    1460 non-null   object \n",
      " 24  Exterior2nd    1460 non-null   object \n",
      " 25  MasVnrType     1452 non-null   object \n",
      " 26  MasVnrArea     1452 non-null   float64\n",
      " 27  ExterQual      1460 non-null   object \n",
      " 28  ExterCond      1460 non-null   object \n",
      " 29  Foundation     1460 non-null   object \n",
      " 30  BsmtQual       1423 non-null   object \n",
      " 31  BsmtCond       1423 non-null   object \n",
      " 32  BsmtExposure   1422 non-null   object \n",
      " 33  BsmtFinType1   1423 non-null   object \n",
      " 34  BsmtFinSF1     1460 non-null   int64  \n",
      " 35  BsmtFinType2   1422 non-null   object \n",
      " 36  BsmtFinSF2     1460 non-null   int64  \n",
      " 37  BsmtUnfSF      1460 non-null   int64  \n",
      " 38  TotalBsmtSF    1460 non-null   int64  \n",
      " 39  Heating        1460 non-null   object \n",
      " 40  HeatingQC      1460 non-null   object \n",
      " 41  CentralAir     1460 non-null   object \n",
      " 42  Electrical     1459 non-null   object \n",
      " 43  1stFlrSF       1460 non-null   int64  \n",
      " 44  2ndFlrSF       1460 non-null   int64  \n",
      " 45  LowQualFinSF   1460 non-null   int64  \n",
      " 46  GrLivArea      1460 non-null   int64  \n",
      " 47  BsmtFullBath   1460 non-null   int64  \n",
      " 48  BsmtHalfBath   1460 non-null   int64  \n",
      " 49  FullBath       1460 non-null   int64  \n",
      " 50  HalfBath       1460 non-null   int64  \n",
      " 51  BedroomAbvGr   1460 non-null   int64  \n",
      " 52  KitchenAbvGr   1460 non-null   int64  \n",
      " 53  KitchenQual    1460 non-null   object \n",
      " 54  TotRmsAbvGrd   1460 non-null   int64  \n",
      " 55  Functional     1460 non-null   object \n",
      " 56  Fireplaces     1460 non-null   int64  \n",
      " 57  FireplaceQu    770 non-null    object \n",
      " 58  GarageType     1379 non-null   object \n",
      " 59  GarageYrBlt    1379 non-null   float64\n",
      " 60  GarageFinish   1379 non-null   object \n",
      " 61  GarageCars     1460 non-null   int64  \n",
      " 62  GarageArea     1460 non-null   int64  \n",
      " 63  GarageQual     1379 non-null   object \n",
      " 64  GarageCond     1379 non-null   object \n",
      " 65  PavedDrive     1460 non-null   object \n",
      " 66  WoodDeckSF     1460 non-null   int64  \n",
      " 67  OpenPorchSF    1460 non-null   int64  \n",
      " 68  EnclosedPorch  1460 non-null   int64  \n",
      " 69  3SsnPorch      1460 non-null   int64  \n",
      " 70  ScreenPorch    1460 non-null   int64  \n",
      " 71  PoolArea       1460 non-null   int64  \n",
      " 72  PoolQC         7 non-null      object \n",
      " 73  Fence          281 non-null    object \n",
      " 74  MiscFeature    54 non-null     object \n",
      " 75  MiscVal        1460 non-null   int64  \n",
      " 76  MoSold         1460 non-null   int64  \n",
      " 77  YrSold         1460 non-null   int64  \n",
      " 78  SaleType       1460 non-null   object \n",
      " 79  SaleCondition  1460 non-null   object \n",
      " 80  SalePrice      1460 non-null   int64  \n",
      "dtypes: float64(3), int64(35), object(43)\n",
      "memory usage: 924.0+ KB\n"
     ]
    }
   ],
   "source": [
    "df.info()"
   ]
  },
  {
   "cell_type": "code",
   "execution_count": 5,
   "id": "7758b056",
   "metadata": {},
   "outputs": [
    {
     "data": {
      "text/plain": [
       "object     43\n",
       "int64      35\n",
       "float64     3\n",
       "dtype: int64"
      ]
     },
     "execution_count": 5,
     "metadata": {},
     "output_type": "execute_result"
    }
   ],
   "source": [
    "# Checking for features datatype \n",
    "\n",
    "df.dtypes.value_counts()"
   ]
  },
  {
   "cell_type": "markdown",
   "id": "b8718045",
   "metadata": {},
   "source": [
    "## Data Cleaning"
   ]
  },
  {
   "cell_type": "code",
   "execution_count": 6,
   "id": "d535982e",
   "metadata": {},
   "outputs": [
    {
     "data": {
      "text/html": [
       "<div>\n",
       "<style scoped>\n",
       "    .dataframe tbody tr th:only-of-type {\n",
       "        vertical-align: middle;\n",
       "    }\n",
       "\n",
       "    .dataframe tbody tr th {\n",
       "        vertical-align: top;\n",
       "    }\n",
       "\n",
       "    .dataframe thead th {\n",
       "        text-align: right;\n",
       "    }\n",
       "</style>\n",
       "<table border=\"1\" class=\"dataframe\">\n",
       "  <thead>\n",
       "    <tr style=\"text-align: right;\">\n",
       "      <th></th>\n",
       "      <th>Id</th>\n",
       "      <th>MSSubClass</th>\n",
       "      <th>LotFrontage</th>\n",
       "      <th>LotArea</th>\n",
       "      <th>OverallQual</th>\n",
       "      <th>OverallCond</th>\n",
       "      <th>YearBuilt</th>\n",
       "      <th>YearRemodAdd</th>\n",
       "      <th>MasVnrArea</th>\n",
       "      <th>BsmtFinSF1</th>\n",
       "      <th>...</th>\n",
       "      <th>WoodDeckSF</th>\n",
       "      <th>OpenPorchSF</th>\n",
       "      <th>EnclosedPorch</th>\n",
       "      <th>3SsnPorch</th>\n",
       "      <th>ScreenPorch</th>\n",
       "      <th>PoolArea</th>\n",
       "      <th>MiscVal</th>\n",
       "      <th>MoSold</th>\n",
       "      <th>YrSold</th>\n",
       "      <th>SalePrice</th>\n",
       "    </tr>\n",
       "  </thead>\n",
       "  <tbody>\n",
       "    <tr>\n",
       "      <th>count</th>\n",
       "      <td>1460.000000</td>\n",
       "      <td>1460.000000</td>\n",
       "      <td>1201.000000</td>\n",
       "      <td>1460.000000</td>\n",
       "      <td>1460.000000</td>\n",
       "      <td>1460.000000</td>\n",
       "      <td>1460.000000</td>\n",
       "      <td>1460.000000</td>\n",
       "      <td>1452.000000</td>\n",
       "      <td>1460.000000</td>\n",
       "      <td>...</td>\n",
       "      <td>1460.000000</td>\n",
       "      <td>1460.000000</td>\n",
       "      <td>1460.000000</td>\n",
       "      <td>1460.000000</td>\n",
       "      <td>1460.000000</td>\n",
       "      <td>1460.000000</td>\n",
       "      <td>1460.000000</td>\n",
       "      <td>1460.000000</td>\n",
       "      <td>1460.000000</td>\n",
       "      <td>1460.000000</td>\n",
       "    </tr>\n",
       "    <tr>\n",
       "      <th>mean</th>\n",
       "      <td>730.500000</td>\n",
       "      <td>56.897260</td>\n",
       "      <td>70.049958</td>\n",
       "      <td>10516.828082</td>\n",
       "      <td>6.099315</td>\n",
       "      <td>5.575342</td>\n",
       "      <td>1971.267808</td>\n",
       "      <td>1984.865753</td>\n",
       "      <td>103.685262</td>\n",
       "      <td>443.639726</td>\n",
       "      <td>...</td>\n",
       "      <td>94.244521</td>\n",
       "      <td>46.660274</td>\n",
       "      <td>21.954110</td>\n",
       "      <td>3.409589</td>\n",
       "      <td>15.060959</td>\n",
       "      <td>2.758904</td>\n",
       "      <td>43.489041</td>\n",
       "      <td>6.321918</td>\n",
       "      <td>2007.815753</td>\n",
       "      <td>180921.195890</td>\n",
       "    </tr>\n",
       "    <tr>\n",
       "      <th>std</th>\n",
       "      <td>421.610009</td>\n",
       "      <td>42.300571</td>\n",
       "      <td>24.284752</td>\n",
       "      <td>9981.264932</td>\n",
       "      <td>1.382997</td>\n",
       "      <td>1.112799</td>\n",
       "      <td>30.202904</td>\n",
       "      <td>20.645407</td>\n",
       "      <td>181.066207</td>\n",
       "      <td>456.098091</td>\n",
       "      <td>...</td>\n",
       "      <td>125.338794</td>\n",
       "      <td>66.256028</td>\n",
       "      <td>61.119149</td>\n",
       "      <td>29.317331</td>\n",
       "      <td>55.757415</td>\n",
       "      <td>40.177307</td>\n",
       "      <td>496.123024</td>\n",
       "      <td>2.703626</td>\n",
       "      <td>1.328095</td>\n",
       "      <td>79442.502883</td>\n",
       "    </tr>\n",
       "    <tr>\n",
       "      <th>min</th>\n",
       "      <td>1.000000</td>\n",
       "      <td>20.000000</td>\n",
       "      <td>21.000000</td>\n",
       "      <td>1300.000000</td>\n",
       "      <td>1.000000</td>\n",
       "      <td>1.000000</td>\n",
       "      <td>1872.000000</td>\n",
       "      <td>1950.000000</td>\n",
       "      <td>0.000000</td>\n",
       "      <td>0.000000</td>\n",
       "      <td>...</td>\n",
       "      <td>0.000000</td>\n",
       "      <td>0.000000</td>\n",
       "      <td>0.000000</td>\n",
       "      <td>0.000000</td>\n",
       "      <td>0.000000</td>\n",
       "      <td>0.000000</td>\n",
       "      <td>0.000000</td>\n",
       "      <td>1.000000</td>\n",
       "      <td>2006.000000</td>\n",
       "      <td>34900.000000</td>\n",
       "    </tr>\n",
       "    <tr>\n",
       "      <th>25%</th>\n",
       "      <td>365.750000</td>\n",
       "      <td>20.000000</td>\n",
       "      <td>59.000000</td>\n",
       "      <td>7553.500000</td>\n",
       "      <td>5.000000</td>\n",
       "      <td>5.000000</td>\n",
       "      <td>1954.000000</td>\n",
       "      <td>1967.000000</td>\n",
       "      <td>0.000000</td>\n",
       "      <td>0.000000</td>\n",
       "      <td>...</td>\n",
       "      <td>0.000000</td>\n",
       "      <td>0.000000</td>\n",
       "      <td>0.000000</td>\n",
       "      <td>0.000000</td>\n",
       "      <td>0.000000</td>\n",
       "      <td>0.000000</td>\n",
       "      <td>0.000000</td>\n",
       "      <td>5.000000</td>\n",
       "      <td>2007.000000</td>\n",
       "      <td>129975.000000</td>\n",
       "    </tr>\n",
       "    <tr>\n",
       "      <th>50%</th>\n",
       "      <td>730.500000</td>\n",
       "      <td>50.000000</td>\n",
       "      <td>69.000000</td>\n",
       "      <td>9478.500000</td>\n",
       "      <td>6.000000</td>\n",
       "      <td>5.000000</td>\n",
       "      <td>1973.000000</td>\n",
       "      <td>1994.000000</td>\n",
       "      <td>0.000000</td>\n",
       "      <td>383.500000</td>\n",
       "      <td>...</td>\n",
       "      <td>0.000000</td>\n",
       "      <td>25.000000</td>\n",
       "      <td>0.000000</td>\n",
       "      <td>0.000000</td>\n",
       "      <td>0.000000</td>\n",
       "      <td>0.000000</td>\n",
       "      <td>0.000000</td>\n",
       "      <td>6.000000</td>\n",
       "      <td>2008.000000</td>\n",
       "      <td>163000.000000</td>\n",
       "    </tr>\n",
       "    <tr>\n",
       "      <th>75%</th>\n",
       "      <td>1095.250000</td>\n",
       "      <td>70.000000</td>\n",
       "      <td>80.000000</td>\n",
       "      <td>11601.500000</td>\n",
       "      <td>7.000000</td>\n",
       "      <td>6.000000</td>\n",
       "      <td>2000.000000</td>\n",
       "      <td>2004.000000</td>\n",
       "      <td>166.000000</td>\n",
       "      <td>712.250000</td>\n",
       "      <td>...</td>\n",
       "      <td>168.000000</td>\n",
       "      <td>68.000000</td>\n",
       "      <td>0.000000</td>\n",
       "      <td>0.000000</td>\n",
       "      <td>0.000000</td>\n",
       "      <td>0.000000</td>\n",
       "      <td>0.000000</td>\n",
       "      <td>8.000000</td>\n",
       "      <td>2009.000000</td>\n",
       "      <td>214000.000000</td>\n",
       "    </tr>\n",
       "    <tr>\n",
       "      <th>max</th>\n",
       "      <td>1460.000000</td>\n",
       "      <td>190.000000</td>\n",
       "      <td>313.000000</td>\n",
       "      <td>215245.000000</td>\n",
       "      <td>10.000000</td>\n",
       "      <td>9.000000</td>\n",
       "      <td>2010.000000</td>\n",
       "      <td>2010.000000</td>\n",
       "      <td>1600.000000</td>\n",
       "      <td>5644.000000</td>\n",
       "      <td>...</td>\n",
       "      <td>857.000000</td>\n",
       "      <td>547.000000</td>\n",
       "      <td>552.000000</td>\n",
       "      <td>508.000000</td>\n",
       "      <td>480.000000</td>\n",
       "      <td>738.000000</td>\n",
       "      <td>15500.000000</td>\n",
       "      <td>12.000000</td>\n",
       "      <td>2010.000000</td>\n",
       "      <td>755000.000000</td>\n",
       "    </tr>\n",
       "  </tbody>\n",
       "</table>\n",
       "<p>8 rows × 38 columns</p>\n",
       "</div>"
      ],
      "text/plain": [
       "                Id   MSSubClass  LotFrontage        LotArea  OverallQual  \\\n",
       "count  1460.000000  1460.000000  1201.000000    1460.000000  1460.000000   \n",
       "mean    730.500000    56.897260    70.049958   10516.828082     6.099315   \n",
       "std     421.610009    42.300571    24.284752    9981.264932     1.382997   \n",
       "min       1.000000    20.000000    21.000000    1300.000000     1.000000   \n",
       "25%     365.750000    20.000000    59.000000    7553.500000     5.000000   \n",
       "50%     730.500000    50.000000    69.000000    9478.500000     6.000000   \n",
       "75%    1095.250000    70.000000    80.000000   11601.500000     7.000000   \n",
       "max    1460.000000   190.000000   313.000000  215245.000000    10.000000   \n",
       "\n",
       "       OverallCond    YearBuilt  YearRemodAdd   MasVnrArea   BsmtFinSF1  ...  \\\n",
       "count  1460.000000  1460.000000   1460.000000  1452.000000  1460.000000  ...   \n",
       "mean      5.575342  1971.267808   1984.865753   103.685262   443.639726  ...   \n",
       "std       1.112799    30.202904     20.645407   181.066207   456.098091  ...   \n",
       "min       1.000000  1872.000000   1950.000000     0.000000     0.000000  ...   \n",
       "25%       5.000000  1954.000000   1967.000000     0.000000     0.000000  ...   \n",
       "50%       5.000000  1973.000000   1994.000000     0.000000   383.500000  ...   \n",
       "75%       6.000000  2000.000000   2004.000000   166.000000   712.250000  ...   \n",
       "max       9.000000  2010.000000   2010.000000  1600.000000  5644.000000  ...   \n",
       "\n",
       "        WoodDeckSF  OpenPorchSF  EnclosedPorch    3SsnPorch  ScreenPorch  \\\n",
       "count  1460.000000  1460.000000    1460.000000  1460.000000  1460.000000   \n",
       "mean     94.244521    46.660274      21.954110     3.409589    15.060959   \n",
       "std     125.338794    66.256028      61.119149    29.317331    55.757415   \n",
       "min       0.000000     0.000000       0.000000     0.000000     0.000000   \n",
       "25%       0.000000     0.000000       0.000000     0.000000     0.000000   \n",
       "50%       0.000000    25.000000       0.000000     0.000000     0.000000   \n",
       "75%     168.000000    68.000000       0.000000     0.000000     0.000000   \n",
       "max     857.000000   547.000000     552.000000   508.000000   480.000000   \n",
       "\n",
       "          PoolArea       MiscVal       MoSold       YrSold      SalePrice  \n",
       "count  1460.000000   1460.000000  1460.000000  1460.000000    1460.000000  \n",
       "mean      2.758904     43.489041     6.321918  2007.815753  180921.195890  \n",
       "std      40.177307    496.123024     2.703626     1.328095   79442.502883  \n",
       "min       0.000000      0.000000     1.000000  2006.000000   34900.000000  \n",
       "25%       0.000000      0.000000     5.000000  2007.000000  129975.000000  \n",
       "50%       0.000000      0.000000     6.000000  2008.000000  163000.000000  \n",
       "75%       0.000000      0.000000     8.000000  2009.000000  214000.000000  \n",
       "max     738.000000  15500.000000    12.000000  2010.000000  755000.000000  \n",
       "\n",
       "[8 rows x 38 columns]"
      ]
     },
     "execution_count": 6,
     "metadata": {},
     "output_type": "execute_result"
    }
   ],
   "source": [
    "df.describe()"
   ]
  },
  {
   "cell_type": "code",
   "execution_count": 7,
   "id": "cb5ad0a8",
   "metadata": {},
   "outputs": [
    {
     "data": {
      "text/plain": [
       "(1460, 81)"
      ]
     },
     "execution_count": 7,
     "metadata": {},
     "output_type": "execute_result"
    }
   ],
   "source": [
    "df.shape"
   ]
  },
  {
   "cell_type": "markdown",
   "id": "0b02dac7",
   "metadata": {},
   "source": [
    "## Helper Functions for Preprocessing and EDA"
   ]
  },
  {
   "cell_type": "code",
   "execution_count": 8,
   "id": "83f53c06",
   "metadata": {},
   "outputs": [],
   "source": [
    "# Function to generate Bar Plots\n",
    "\n",
    "def bar(title, x, size):\n",
    "  plt.figure(figsize=size)\n",
    "  ax = sns.countplot(x=x)\n",
    "  plt.title(title, fontsize=16)\n",
    "  plt.show()"
   ]
  },
  {
   "cell_type": "markdown",
   "id": "dbeaf6de",
   "metadata": {},
   "source": [
    "###  Data Preprocessing"
   ]
  },
  {
   "cell_type": "markdown",
   "id": "e10436e1",
   "metadata": {},
   "source": [
    "Target Feature"
   ]
  },
  {
   "cell_type": "code",
   "execution_count": 9,
   "id": "96b468fc",
   "metadata": {},
   "outputs": [
    {
     "name": "stderr",
     "output_type": "stream",
     "text": [
      "C:\\Users\\Shah Kevin\\anaconda3\\lib\\site-packages\\seaborn\\distributions.py:2619: FutureWarning: `distplot` is a deprecated function and will be removed in a future version. Please adapt your code to use either `displot` (a figure-level function with similar flexibility) or `histplot` (an axes-level function for histograms).\n",
      "  warnings.warn(msg, FutureWarning)\n"
     ]
    },
    {
     "data": {
      "image/png": "[encoded data removed]",
      "text/plain": [
       "<Figure size 432x288 with 1 Axes>"
      ]
     },
     "metadata": {
      "needs_background": "light"
     },
     "output_type": "display_data"
    }
   ],
   "source": [
    "ax = sns.distplot(df[\"SalePrice\"])\n",
    "ax.set_xlabel(\"SalePrice\")\n",
    "ax.set_title('Distribution of SalePrice')\n",
    "plt.show()"
   ]
  },
  {
   "cell_type": "markdown",
   "id": "8d9a246c",
   "metadata": {},
   "source": [
    "Target Variable is normally distributed and there are few outliers which will normalised by scaling during model building"
   ]
  },
  {
   "cell_type": "code",
   "execution_count": 10,
   "id": "265d0cd8",
   "metadata": {},
   "outputs": [],
   "source": [
    "df = df.drop(['Id'],axis=1)   # Drop unnecessary Id column"
   ]
  },
  {
   "cell_type": "markdown",
   "id": "5dee2c6f",
   "metadata": {},
   "source": [
    "## EDA"
   ]
  },
  {
   "cell_type": "code",
   "execution_count": 11,
   "id": "2ba42e57",
   "metadata": {},
   "outputs": [
    {
     "data": {
      "text/plain": [
       "20     36.712329\n",
       "60     20.479452\n",
       "50      9.863014\n",
       "120     5.958904\n",
       "30      4.726027\n",
       "160     4.315068\n",
       "70      4.109589\n",
       "80      3.972603\n",
       "90      3.561644\n",
       "190     2.054795\n",
       "85      1.369863\n",
       "75      1.095890\n",
       "45      0.821918\n",
       "180     0.684932\n",
       "40      0.273973\n",
       "Name: MSSubClass, dtype: float64"
      ]
     },
     "execution_count": 11,
     "metadata": {},
     "output_type": "execute_result"
    }
   ],
   "source": [
    "# MSSubClass Feature Distribution \n",
    "\n",
    "df['MSSubClass'].value_counts()*100/len(df)"
   ]
  },
  {
   "cell_type": "code",
   "execution_count": 12,
   "id": "74705070",
   "metadata": {},
   "outputs": [
    {
     "data": {
      "image/png": "[encoded data removed]",
      "text/plain": [
       "<Figure size 1080x432 with 1 Axes>"
      ]
     },
     "metadata": {
      "needs_background": "light"
     },
     "output_type": "display_data"
    }
   ],
   "source": [
    "# Visualization\n",
    "bar('MSSubClass Distribution', df['MSSubClass'], (15,6))"
   ]
  },
  {
   "cell_type": "code",
   "execution_count": 13,
   "id": "f8f7e1fc",
   "metadata": {},
   "outputs": [
    {
     "data": {
      "text/plain": [
       "RL         78.835616\n",
       "RM         14.931507\n",
       "FV          4.452055\n",
       "RH          1.095890\n",
       "C (all)     0.684932\n",
       "Name: MSZoning, dtype: float64"
      ]
     },
     "execution_count": 13,
     "metadata": {},
     "output_type": "execute_result"
    }
   ],
   "source": [
    "# MSZoning Feature Distribution \n",
    "\n",
    "df['MSZoning'].value_counts()*100/len(df)"
   ]
  },
  {
   "cell_type": "code",
   "execution_count": 14,
   "id": "d3589ff2",
   "metadata": {},
   "outputs": [
    {
     "data": {
      "image/png": "[encoded data removed]",
      "text/plain": [
       "<Figure size 576x432 with 1 Axes>"
      ]
     },
     "metadata": {
      "needs_background": "light"
     },
     "output_type": "display_data"
    }
   ],
   "source": [
    "# Visualization\n",
    "bar('MSZoning Distribution', df['MSZoning'], (8,6))"
   ]
  },
  {
   "cell_type": "code",
   "execution_count": 15,
   "id": "723d5ef6",
   "metadata": {},
   "outputs": [
    {
     "name": "stdout",
     "output_type": "stream",
     "text": [
      "Pave    99.589041\n",
      "Grvl     0.410959\n",
      "Name: Street, dtype: float64 \n",
      "\n"
     ]
    },
    {
     "data": {
      "text/plain": [
       "Pave    1454\n",
       "Grvl       6\n",
       "Name: Street, dtype: int64"
      ]
     },
     "execution_count": 15,
     "metadata": {},
     "output_type": "execute_result"
    }
   ],
   "source": [
    "# Street can be dropped as data is fully biased with 99.5% of Pave\n",
    "print(df['Street'].value_counts()*100/len(df), '\\n')\n",
    "\n",
    "df['Street'].value_counts()"
   ]
  },
  {
   "cell_type": "code",
   "execution_count": 16,
   "id": "4fd3b736",
   "metadata": {},
   "outputs": [
    {
     "name": "stdout",
     "output_type": "stream",
     "text": [
      "Null Value Percentage: 93.76712328767124 \n",
      "\n"
     ]
    },
    {
     "data": {
      "text/plain": [
       "Grvl    50\n",
       "Pave    41\n",
       "Name: Alley, dtype: int64"
      ]
     },
     "execution_count": 16,
     "metadata": {},
     "output_type": "execute_result"
    }
   ],
   "source": [
    "# Alley can be dropped as there are NUll values more than 94%\n",
    "print('Null Value Percentage:' ,df['Alley'].isna().sum()*100/len(df), '\\n')\n",
    "\n",
    "df['Alley'].value_counts()"
   ]
  },
  {
   "cell_type": "code",
   "execution_count": 17,
   "id": "6f3d6fa7",
   "metadata": {},
   "outputs": [
    {
     "name": "stdout",
     "output_type": "stream",
     "text": [
      "AllPub    99.931507\n",
      "NoSeWa     0.068493\n",
      "Name: Utilities, dtype: float64 \n",
      "\n"
     ]
    },
    {
     "data": {
      "text/plain": [
       "AllPub    1459\n",
       "NoSeWa       1\n",
       "Name: Utilities, dtype: int64"
      ]
     },
     "execution_count": 17,
     "metadata": {},
     "output_type": "execute_result"
    }
   ],
   "source": [
    "# Utilities can be dropped as data is fully biased with 99.9% of AllPub\n",
    "print(df['Utilities'].value_counts()*100/len(df), '\\n')\n",
    "\n",
    "df['Utilities'].value_counts()"
   ]
  },
  {
   "cell_type": "code",
   "execution_count": 18,
   "id": "e0fa896d",
   "metadata": {},
   "outputs": [],
   "source": [
    "# Dropping Alley, Street, Utilities\n",
    "df = df.drop(['Utilities','Alley','Street'], axis=1)"
   ]
  },
  {
   "cell_type": "code",
   "execution_count": 19,
   "id": "f99e8523",
   "metadata": {},
   "outputs": [
    {
     "data": {
      "text/plain": [
       "259"
      ]
     },
     "execution_count": 19,
     "metadata": {},
     "output_type": "execute_result"
    }
   ],
   "source": [
    "# LotFrontage can be derived through Lot Area (LotFrontage = LotArea/LotWidth)\n",
    "\n",
    "# Missing Values in Lot Frontage\n",
    "df['LotFrontage'].isna().sum()"
   ]
  },
  {
   "cell_type": "code",
   "execution_count": 20,
   "id": "3300ab3e",
   "metadata": {},
   "outputs": [
    {
     "name": "stdout",
     "output_type": "stream",
     "text": [
      "count    1201.000000\n",
      "mean       70.049958\n",
      "std        24.284752\n",
      "min        21.000000\n",
      "25%        59.000000\n",
      "50%        69.000000\n",
      "75%        80.000000\n",
      "max       313.000000\n",
      "Name: LotFrontage, dtype: float64\n"
     ]
    },
    {
     "name": "stderr",
     "output_type": "stream",
     "text": [
      "C:\\Users\\Shah Kevin\\anaconda3\\lib\\site-packages\\seaborn\\_decorators.py:36: FutureWarning: Pass the following variable as a keyword arg: x. From version 0.12, the only valid positional argument will be `data`, and passing other arguments without an explicit keyword will result in an error or misinterpretation.\n",
      "  warnings.warn(\n"
     ]
    },
    {
     "data": {
      "image/png": "[encoded data removed]",
      "text/plain": [
       "<Figure size 432x288 with 1 Axes>"
      ]
     },
     "metadata": {
      "needs_background": "light"
     },
     "output_type": "display_data"
    }
   ],
   "source": [
    "print(df['LotFrontage'].describe())\n",
    "ax = sns.boxplot(df['LotFrontage'])\n",
    "plt.show()"
   ]
  },
  {
   "cell_type": "markdown",
   "id": "2bf49474",
   "metadata": {},
   "source": [
    "Imputing 259 null values with median as there are outliners"
   ]
  },
  {
   "cell_type": "code",
   "execution_count": 21,
   "id": "c89136e8",
   "metadata": {},
   "outputs": [],
   "source": [
    "# Imputing Null values with median\n",
    "df['LotFrontage'] = df['LotFrontage'].fillna(df['LotFrontage'].median())"
   ]
  },
  {
   "cell_type": "code",
   "execution_count": 22,
   "id": "12d9c520",
   "metadata": {},
   "outputs": [
    {
     "data": {
      "text/plain": [
       "Reg    925\n",
       "IR1    484\n",
       "IR2     41\n",
       "IR3     10\n",
       "Name: LotShape, dtype: int64"
      ]
     },
     "execution_count": 22,
     "metadata": {},
     "output_type": "execute_result"
    }
   ],
   "source": [
    "df['LotShape'].value_counts()"
   ]
  },
  {
   "cell_type": "code",
   "execution_count": 23,
   "id": "a14c43fc",
   "metadata": {},
   "outputs": [
    {
     "data": {
      "image/png": "[encoded data removed]",
      "text/plain": [
       "<Figure size 576x432 with 1 Axes>"
      ]
     },
     "metadata": {
      "needs_background": "light"
     },
     "output_type": "display_data"
    }
   ],
   "source": [
    "# Visualization\n",
    "bar('LotShape Distribution', df['LotShape'], (8,6))"
   ]
  },
  {
   "cell_type": "code",
   "execution_count": 24,
   "id": "6365d11b",
   "metadata": {},
   "outputs": [
    {
     "data": {
      "text/plain": [
       "Inside     1052\n",
       "Corner      263\n",
       "CulDSac      94\n",
       "FR2          47\n",
       "FR3           4\n",
       "Name: LotConfig, dtype: int64"
      ]
     },
     "execution_count": 24,
     "metadata": {},
     "output_type": "execute_result"
    }
   ],
   "source": [
    "# Lot Config\n",
    "df['LotConfig'].value_counts()"
   ]
  },
  {
   "cell_type": "code",
   "execution_count": 25,
   "id": "baf835ab",
   "metadata": {},
   "outputs": [
    {
     "data": {
      "image/png": "[encoded data removed]",
      "text/plain": [
       "<Figure size 576x432 with 1 Axes>"
      ]
     },
     "metadata": {
      "needs_background": "light"
     },
     "output_type": "display_data"
    }
   ],
   "source": [
    "# Visualization\n",
    "bar('LotConfig Distribution', df['LotConfig'], (8,6))"
   ]
  },
  {
   "cell_type": "code",
   "execution_count": 26,
   "id": "4720e983",
   "metadata": {},
   "outputs": [
    {
     "data": {
      "text/plain": [
       "Lvl    1311\n",
       "Bnk      63\n",
       "HLS      50\n",
       "Low      36\n",
       "Name: LandContour, dtype: int64"
      ]
     },
     "execution_count": 26,
     "metadata": {},
     "output_type": "execute_result"
    }
   ],
   "source": [
    "# LandContour\n",
    "\n",
    "df['LandContour'].value_counts() "
   ]
  },
  {
   "cell_type": "code",
   "execution_count": 27,
   "id": "4ad8cba9",
   "metadata": {},
   "outputs": [
    {
     "data": {
      "image/png": "[encoded data removed]",
      "text/plain": [
       "<Figure size 576x432 with 1 Axes>"
      ]
     },
     "metadata": {
      "needs_background": "light"
     },
     "output_type": "display_data"
    }
   ],
   "source": [
    "# Visualization\n",
    "bar('LandContour Distribution', df['LandContour'], (8,6))"
   ]
  },
  {
   "cell_type": "code",
   "execution_count": 28,
   "id": "720d6b6c",
   "metadata": {},
   "outputs": [
    {
     "data": {
      "text/plain": [
       "Gtl    1382\n",
       "Mod      65\n",
       "Sev      13\n",
       "Name: LandSlope, dtype: int64"
      ]
     },
     "execution_count": 28,
     "metadata": {},
     "output_type": "execute_result"
    }
   ],
   "source": [
    "df['LandSlope'].value_counts()"
   ]
  },
  {
   "cell_type": "code",
   "execution_count": 29,
   "id": "6b24979e",
   "metadata": {},
   "outputs": [],
   "source": [
    "df = df.drop(['LandSlope'],axis=1)"
   ]
  },
  {
   "cell_type": "code",
   "execution_count": 30,
   "id": "29953051",
   "metadata": {},
   "outputs": [
    {
     "data": {
      "text/plain": [
       "NAmes      15.410959\n",
       "CollgCr    10.273973\n",
       "OldTown     7.739726\n",
       "Edwards     6.849315\n",
       "Somerst     5.890411\n",
       "Gilbert     5.410959\n",
       "NridgHt     5.273973\n",
       "Sawyer      5.068493\n",
       "NWAmes      5.000000\n",
       "SawyerW     4.041096\n",
       "BrkSide     3.972603\n",
       "Crawfor     3.493151\n",
       "Mitchel     3.356164\n",
       "NoRidge     2.808219\n",
       "Timber      2.602740\n",
       "IDOTRR      2.534247\n",
       "ClearCr     1.917808\n",
       "StoneBr     1.712329\n",
       "SWISU       1.712329\n",
       "MeadowV     1.164384\n",
       "Blmngtn     1.164384\n",
       "BrDale      1.095890\n",
       "Veenker     0.753425\n",
       "NPkVill     0.616438\n",
       "Blueste     0.136986\n",
       "Name: Neighborhood, dtype: float64"
      ]
     },
     "execution_count": 30,
     "metadata": {},
     "output_type": "execute_result"
    }
   ],
   "source": [
    "df['Neighborhood'].value_counts()*100/len(df)"
   ]
  },
  {
   "cell_type": "markdown",
   "id": "c3019782",
   "metadata": {},
   "source": [
    "Each value of Neighborhood has different significance,looks like a good variable"
   ]
  },
  {
   "cell_type": "code",
   "execution_count": 31,
   "id": "85e4eb7e",
   "metadata": {},
   "outputs": [
    {
     "data": {
      "text/plain": [
       "Condition1  Condition2\n",
       "Norm        Norm          1260\n",
       "Feedr       Norm            76\n",
       "Artery      Norm            45\n",
       "RRAn        Norm            22\n",
       "PosN        Norm            17\n",
       "RRAe        Norm            11\n",
       "PosA        Norm             8\n",
       "RRAn        Feedr            4\n",
       "RRNn        Norm             4\n",
       "Feedr       RRNn             2\n",
       "PosN        PosN             2\n",
       "RRNe        Norm             2\n",
       "Artery      Artery           2\n",
       "Feedr       RRAn             1\n",
       "            RRAe             1\n",
       "            Feedr            1\n",
       "Artery      PosA             1\n",
       "RRNn        Feedr            1\n",
       "dtype: int64"
      ]
     },
     "execution_count": 31,
     "metadata": {},
     "output_type": "execute_result"
    }
   ],
   "source": [
    "# Condition1 and Condition2 can be conidered as a single entity by its defination\n",
    "\n",
    "df[['Condition1','Condition2']].value_counts()"
   ]
  },
  {
   "cell_type": "code",
   "execution_count": 32,
   "id": "8b083bf0",
   "metadata": {},
   "outputs": [],
   "source": [
    "# Almost every row has Norm Condition to proximities ,so both columns can be ignored\n",
    "\n",
    "df=df.drop(['Condition1','Condition2'],axis=1)"
   ]
  },
  {
   "cell_type": "code",
   "execution_count": 33,
   "id": "34f45547",
   "metadata": {},
   "outputs": [
    {
     "data": {
      "text/plain": [
       "1Story    726\n",
       "2Story    445\n",
       "1.5Fin    154\n",
       "SLvl       65\n",
       "SFoyer     37\n",
       "1.5Unf     14\n",
       "2.5Unf     11\n",
       "2.5Fin      8\n",
       "Name: HouseStyle, dtype: int64"
      ]
     },
     "execution_count": 33,
     "metadata": {},
     "output_type": "execute_result"
    }
   ],
   "source": [
    "# HouseStyle\n",
    "\n",
    "df['HouseStyle'].value_counts()"
   ]
  },
  {
   "cell_type": "code",
   "execution_count": 34,
   "id": "0063053d",
   "metadata": {},
   "outputs": [
    {
     "data": {
      "image/png": "[encoded data removed]",
      "text/plain": [
       "<Figure size 576x432 with 1 Axes>"
      ]
     },
     "metadata": {
      "needs_background": "light"
     },
     "output_type": "display_data"
    }
   ],
   "source": [
    "# Visualization\n",
    "bar('HouseStyle Distribution', df['HouseStyle'], (8,6))"
   ]
  },
  {
   "cell_type": "code",
   "execution_count": 35,
   "id": "f95e7343",
   "metadata": {},
   "outputs": [
    {
     "data": {
      "text/plain": [
       "1Fam      1220\n",
       "TwnhsE     114\n",
       "Duplex      52\n",
       "Twnhs       43\n",
       "2fmCon      31\n",
       "Name: BldgType, dtype: int64"
      ]
     },
     "execution_count": 35,
     "metadata": {},
     "output_type": "execute_result"
    }
   ],
   "source": [
    "# Building Type\n",
    "\n",
    "df['BldgType'].value_counts()"
   ]
  },
  {
   "cell_type": "code",
   "execution_count": 36,
   "id": "dfb8c9d0",
   "metadata": {},
   "outputs": [
    {
     "data": {
      "image/png": "[encoded data removed]",
      "text/plain": [
       "<Figure size 576x432 with 1 Axes>"
      ]
     },
     "metadata": {
      "needs_background": "light"
     },
     "output_type": "display_data"
    }
   ],
   "source": [
    "# Visualization\n",
    "bar('BldgType Distribution', df['BldgType'], (8,6))"
   ]
  },
  {
   "cell_type": "code",
   "execution_count": 37,
   "id": "1ce18db2",
   "metadata": {},
   "outputs": [
    {
     "name": "stderr",
     "output_type": "stream",
     "text": [
      "C:\\Users\\Shah Kevin\\anaconda3\\lib\\site-packages\\seaborn\\distributions.py:2619: FutureWarning: `distplot` is a deprecated function and will be removed in a future version. Please adapt your code to use either `displot` (a figure-level function with similar flexibility) or `histplot` (an axes-level function for histograms).\n",
      "  warnings.warn(msg, FutureWarning)\n"
     ]
    },
    {
     "data": {
      "image/png": "[encoded data removed]",
      "text/plain": [
       "<Figure size 432x288 with 1 Axes>"
      ]
     },
     "metadata": {
      "needs_background": "light"
     },
     "output_type": "display_data"
    }
   ],
   "source": [
    "ax = sns.distplot(df[\"OverallQual\"])\n",
    "ax.set_xlabel(\"OverallQual\")\n",
    "ax.set_title('Distribution of OverallQual')\n",
    "plt.show()"
   ]
  },
  {
   "cell_type": "code",
   "execution_count": 38,
   "id": "acf009f1",
   "metadata": {},
   "outputs": [
    {
     "name": "stderr",
     "output_type": "stream",
     "text": [
      "C:\\Users\\Shah Kevin\\anaconda3\\lib\\site-packages\\seaborn\\distributions.py:2619: FutureWarning: `distplot` is a deprecated function and will be removed in a future version. Please adapt your code to use either `displot` (a figure-level function with similar flexibility) or `histplot` (an axes-level function for histograms).\n",
      "  warnings.warn(msg, FutureWarning)\n"
     ]
    },
    {
     "data": {
      "image/png": "[encoded data removed]",
      "text/plain": [
       "<Figure size 432x288 with 1 Axes>"
      ]
     },
     "metadata": {
      "needs_background": "light"
     },
     "output_type": "display_data"
    }
   ],
   "source": [
    "ax = sns.distplot(df[\"OverallCond\"])\n",
    "ax.set_xlabel(\"OverallCond\")\n",
    "ax.set_title('Distribution of OverallCond')\n",
    "plt.show()"
   ]
  },
  {
   "cell_type": "code",
   "execution_count": 39,
   "id": "fcc97877",
   "metadata": {},
   "outputs": [
    {
     "data": {
      "text/plain": [
       "2006    67\n",
       "2005    64\n",
       "2004    54\n",
       "2007    49\n",
       "2003    45\n",
       "        ..\n",
       "1875     1\n",
       "1911     1\n",
       "1917     1\n",
       "1872     1\n",
       "1905     1\n",
       "Name: YearBuilt, Length: 112, dtype: int64"
      ]
     },
     "execution_count": 39,
     "metadata": {},
     "output_type": "execute_result"
    }
   ],
   "source": [
    "df['YearBuilt'].value_counts()"
   ]
  },
  {
   "cell_type": "code",
   "execution_count": 40,
   "id": "3ee341ba",
   "metadata": {},
   "outputs": [
    {
     "data": {
      "text/plain": [
       "1950    178\n",
       "2006     97\n",
       "2007     76\n",
       "2005     73\n",
       "2004     62\n",
       "       ... \n",
       "2010      6\n",
       "1986      5\n",
       "1952      5\n",
       "1983      5\n",
       "1951      4\n",
       "Name: YearRemodAdd, Length: 61, dtype: int64"
      ]
     },
     "execution_count": 40,
     "metadata": {},
     "output_type": "execute_result"
    }
   ],
   "source": [
    "df['YearRemodAdd'].value_counts()"
   ]
  },
  {
   "cell_type": "markdown",
   "id": "d3a6eeb2",
   "metadata": {},
   "source": [
    "In Year built and Year remodelled we can consider only Year remodelled as both are same entities\n",
    "\n",
    "We will drop year built"
   ]
  },
  {
   "cell_type": "code",
   "execution_count": 41,
   "id": "768bb249",
   "metadata": {},
   "outputs": [],
   "source": [
    "df = df.drop(['YearBuilt'],axis=1)"
   ]
  },
  {
   "cell_type": "code",
   "execution_count": 42,
   "id": "b373507e",
   "metadata": {},
   "outputs": [],
   "source": [
    "# Will consider the age of house since last remodelled and last sold\n",
    "df['YearRemodAdd'] = df['YrSold'] - df['YearRemodAdd']\n",
    "\n",
    "# YearRemodAdd can be remain same as continous value (Ordinal Categories)\n",
    "\n",
    "# YrSold can be dropped\n",
    "df = df.drop('YrSold', axis=1)"
   ]
  },
  {
   "cell_type": "code",
   "execution_count": 43,
   "id": "9cec2290",
   "metadata": {},
   "outputs": [
    {
     "data": {
      "text/plain": [
       "Gable      1141\n",
       "Hip         286\n",
       "Flat         13\n",
       "Gambrel      11\n",
       "Mansard       7\n",
       "Shed          2\n",
       "Name: RoofStyle, dtype: int64"
      ]
     },
     "execution_count": 43,
     "metadata": {},
     "output_type": "execute_result"
    }
   ],
   "source": [
    "# RoofStyle\n",
    "\n",
    "df['RoofStyle'].value_counts()"
   ]
  },
  {
   "cell_type": "code",
   "execution_count": 44,
   "id": "8d845bf1",
   "metadata": {},
   "outputs": [
    {
     "data": {
      "image/png": "[encoded data removed]",
      "text/plain": [
       "<Figure size 576x432 with 1 Axes>"
      ]
     },
     "metadata": {
      "needs_background": "light"
     },
     "output_type": "display_data"
    }
   ],
   "source": [
    "# Visualization\n",
    "bar('MSZoning Distribution', df['MSZoning'], (8,6))"
   ]
  },
  {
   "cell_type": "code",
   "execution_count": 45,
   "id": "eafb2939",
   "metadata": {},
   "outputs": [
    {
     "data": {
      "text/plain": [
       "CompShg    98.219178\n",
       "Tar&Grv     0.753425\n",
       "WdShngl     0.410959\n",
       "WdShake     0.342466\n",
       "Metal       0.068493\n",
       "Membran     0.068493\n",
       "Roll        0.068493\n",
       "ClyTile     0.068493\n",
       "Name: RoofMatl, dtype: float64"
      ]
     },
     "execution_count": 45,
     "metadata": {},
     "output_type": "execute_result"
    }
   ],
   "source": [
    "# Roof Material\n",
    "\n",
    "df['RoofMatl'].value_counts()*100/len(df)"
   ]
  },
  {
   "cell_type": "code",
   "execution_count": 46,
   "id": "026b4f2b",
   "metadata": {},
   "outputs": [],
   "source": [
    "# RoofMatl can be dropped as 98% values are from CopmShg\n",
    "\n",
    "df = df.drop(['RoofMatl'],axis=1)"
   ]
  },
  {
   "cell_type": "code",
   "execution_count": 47,
   "id": "b86efef0",
   "metadata": {},
   "outputs": [
    {
     "data": {
      "text/plain": [
       "Exterior1st  Exterior2nd\n",
       "VinylSd      VinylSd        502\n",
       "MetalSd      MetalSd        212\n",
       "HdBoard      HdBoard        193\n",
       "Wd Sdng      Wd Sdng        177\n",
       "Plywood      Plywood         96\n",
       "                           ... \n",
       "VinylSd      AsbShng          1\n",
       "             HdBoard          1\n",
       "             ImStucc          1\n",
       "ImStucc      ImStucc          1\n",
       "Stucco       Stone            1\n",
       "Length: 67, dtype: int64"
      ]
     },
     "execution_count": 47,
     "metadata": {},
     "output_type": "execute_result"
    }
   ],
   "source": [
    "# Exterior1st and Exterior2nd can be conidered as a single entity by its defination\n",
    "\n",
    "df[['Exterior1st','Exterior2nd']].value_counts()"
   ]
  },
  {
   "cell_type": "code",
   "execution_count": 48,
   "id": "dd7130d0",
   "metadata": {},
   "outputs": [
    {
     "data": {
      "text/plain": [
       "VinylSd    515\n",
       "HdBoard    222\n",
       "MetalSd    220\n",
       "Wd Sdng    206\n",
       "Plywood    108\n",
       "CemntBd     61\n",
       "BrkFace     50\n",
       "WdShing     26\n",
       "Stucco      25\n",
       "AsbShng     20\n",
       "BrkComm      2\n",
       "Stone        2\n",
       "AsphShn      1\n",
       "ImStucc      1\n",
       "CBlock       1\n",
       "Name: Exterior1st, dtype: int64"
      ]
     },
     "execution_count": 48,
     "metadata": {},
     "output_type": "execute_result"
    }
   ],
   "source": [
    "df['Exterior1st'].value_counts()"
   ]
  },
  {
   "cell_type": "code",
   "execution_count": 49,
   "id": "a42d4355",
   "metadata": {},
   "outputs": [
    {
     "name": "stdout",
     "output_type": "stream",
     "text": [
      "8\n"
     ]
    }
   ],
   "source": [
    "# Null values treated with None\n",
    "print(df['MasVnrType'].isna().sum())\n",
    "\n",
    "df['MasVnrType'] = df['MasVnrType'].fillna('None')"
   ]
  },
  {
   "cell_type": "code",
   "execution_count": 50,
   "id": "13d19310",
   "metadata": {},
   "outputs": [
    {
     "data": {
      "text/plain": [
       "None       872\n",
       "BrkFace    445\n",
       "Stone      128\n",
       "BrkCmn      15\n",
       "Name: MasVnrType, dtype: int64"
      ]
     },
     "execution_count": 50,
     "metadata": {},
     "output_type": "execute_result"
    }
   ],
   "source": [
    "# MasVnrType\n",
    "df['MasVnrType'].value_counts()"
   ]
  },
  {
   "cell_type": "code",
   "execution_count": 51,
   "id": "3c0b5ff7",
   "metadata": {},
   "outputs": [],
   "source": [
    "# We can group MasVnrType into 3 labels\n",
    "\n",
    "House = {'MasVnrType': {\n",
    "    'BrkCmn':  'Stone'\n",
    "}} \n",
    "\n",
    "df['MasVnrType'] = df.replace(House)['MasVnrType']"
   ]
  },
  {
   "cell_type": "code",
   "execution_count": 52,
   "id": "bc1de074",
   "metadata": {},
   "outputs": [
    {
     "data": {
      "text/plain": [
       "count    1452.000000\n",
       "mean      103.685262\n",
       "std       181.066207\n",
       "min         0.000000\n",
       "25%         0.000000\n",
       "50%         0.000000\n",
       "75%       166.000000\n",
       "max      1600.000000\n",
       "Name: MasVnrArea, dtype: float64"
      ]
     },
     "execution_count": 52,
     "metadata": {},
     "output_type": "execute_result"
    }
   ],
   "source": [
    "df['MasVnrArea'].describe()"
   ]
  },
  {
   "cell_type": "code",
   "execution_count": 53,
   "id": "49b7bd41",
   "metadata": {},
   "outputs": [
    {
     "name": "stderr",
     "output_type": "stream",
     "text": [
      "C:\\Users\\Shah Kevin\\anaconda3\\lib\\site-packages\\seaborn\\_decorators.py:36: FutureWarning: Pass the following variable as a keyword arg: x. From version 0.12, the only valid positional argument will be `data`, and passing other arguments without an explicit keyword will result in an error or misinterpretation.\n",
      "  warnings.warn(\n"
     ]
    },
    {
     "data": {
      "image/png": "[encoded data removed]",
      "text/plain": [
       "<Figure size 432x288 with 1 Axes>"
      ]
     },
     "metadata": {
      "needs_background": "light"
     },
     "output_type": "display_data"
    }
   ],
   "source": [
    "ax = sns.boxplot(df['MasVnrArea'])"
   ]
  },
  {
   "cell_type": "markdown",
   "id": "5e02fa12",
   "metadata": {},
   "source": [
    "Outliers are there so imputing null values with Median"
   ]
  },
  {
   "cell_type": "code",
   "execution_count": 54,
   "id": "0497e97c",
   "metadata": {},
   "outputs": [
    {
     "name": "stdout",
     "output_type": "stream",
     "text": [
      "8\n"
     ]
    }
   ],
   "source": [
    "# Null values treated with Median vales\n",
    "print(df['MasVnrArea'].isna().sum())\n",
    "\n",
    "df['MasVnrArea'] = df['MasVnrArea'].fillna(df['MasVnrArea'].median())"
   ]
  },
  {
   "cell_type": "code",
   "execution_count": 55,
   "id": "e7d251a9",
   "metadata": {},
   "outputs": [
    {
     "data": {
      "text/plain": [
       "TA    906\n",
       "Gd    488\n",
       "Ex     52\n",
       "Fa     14\n",
       "Name: ExterQual, dtype: int64"
      ]
     },
     "execution_count": 55,
     "metadata": {},
     "output_type": "execute_result"
    }
   ],
   "source": [
    "# ExterQual\n",
    "df['ExterQual'].value_counts()"
   ]
  },
  {
   "cell_type": "code",
   "execution_count": 56,
   "id": "1a937f3e",
   "metadata": {},
   "outputs": [
    {
     "data": {
      "text/plain": [
       "TA    1282\n",
       "Gd     146\n",
       "Fa      28\n",
       "Ex       3\n",
       "Po       1\n",
       "Name: ExterCond, dtype: int64"
      ]
     },
     "execution_count": 56,
     "metadata": {},
     "output_type": "execute_result"
    }
   ],
   "source": [
    "# ExterCond\n",
    "df['ExterCond'].value_counts()"
   ]
  },
  {
   "cell_type": "markdown",
   "id": "c74105ef",
   "metadata": {},
   "source": [
    "Exterior Condition and Quality have most of the ratings as Typical and Good.\n",
    "\n",
    "This Feature wont be significant and can be dropped"
   ]
  },
  {
   "cell_type": "code",
   "execution_count": 57,
   "id": "0caea599",
   "metadata": {},
   "outputs": [],
   "source": [
    "df = df.drop(['ExterQual','ExterCond'],axis=1)"
   ]
  },
  {
   "cell_type": "code",
   "execution_count": 58,
   "id": "12ae4c8d",
   "metadata": {},
   "outputs": [
    {
     "data": {
      "text/plain": [
       "PConc     647\n",
       "CBlock    634\n",
       "BrkTil    146\n",
       "Slab       24\n",
       "Stone       6\n",
       "Wood        3\n",
       "Name: Foundation, dtype: int64"
      ]
     },
     "execution_count": 58,
     "metadata": {},
     "output_type": "execute_result"
    }
   ],
   "source": [
    "# Foundation \n",
    "\n",
    "df['Foundation'].value_counts()"
   ]
  },
  {
   "cell_type": "code",
   "execution_count": 59,
   "id": "0fc937f3",
   "metadata": {},
   "outputs": [
    {
     "data": {
      "text/plain": [
       "TA    1311\n",
       "Gd      65\n",
       "Fa      45\n",
       "Po       2\n",
       "Name: BsmtCond, dtype: int64"
      ]
     },
     "execution_count": 59,
     "metadata": {},
     "output_type": "execute_result"
    }
   ],
   "source": [
    "# Bsmnt Condition: Most of the values are typical and good so this feature can be ignored\n",
    "\n",
    "df['BsmtCond'].value_counts()"
   ]
  },
  {
   "cell_type": "code",
   "execution_count": 60,
   "id": "b9054eaa",
   "metadata": {},
   "outputs": [],
   "source": [
    "df = df.drop(['BsmtCond'],axis=1)"
   ]
  },
  {
   "cell_type": "code",
   "execution_count": 61,
   "id": "f911a34c",
   "metadata": {},
   "outputs": [
    {
     "data": {
      "text/plain": [
       "TA    649\n",
       "Gd    618\n",
       "Ex    121\n",
       "Fa     35\n",
       "Name: BsmtQual, dtype: int64"
      ]
     },
     "execution_count": 61,
     "metadata": {},
     "output_type": "execute_result"
    }
   ],
   "source": [
    "# Bsmnt Condition: Most of the values are typical and good so this feature can be ignored\n",
    "\n",
    "df['BsmtQual'].value_counts()"
   ]
  },
  {
   "cell_type": "code",
   "execution_count": 62,
   "id": "f3890458",
   "metadata": {},
   "outputs": [],
   "source": [
    "df = df.drop(['BsmtQual'],axis=1)"
   ]
  },
  {
   "cell_type": "code",
   "execution_count": 63,
   "id": "1764dca4",
   "metadata": {},
   "outputs": [
    {
     "data": {
      "text/plain": [
       "No    953\n",
       "Av    221\n",
       "Gd    134\n",
       "Mn    114\n",
       "Name: BsmtExposure, dtype: int64"
      ]
     },
     "execution_count": 63,
     "metadata": {},
     "output_type": "execute_result"
    }
   ],
   "source": [
    "# BsmtExposure will divide into two clases yes/no\n",
    "\n",
    "df['BsmtExposure'].value_counts()"
   ]
  },
  {
   "cell_type": "code",
   "execution_count": 64,
   "id": "3494bbd1",
   "metadata": {},
   "outputs": [],
   "source": [
    "# Imputing null values with No since NA indicates NO basement here\n",
    "# NO basement = No Basement Exposure\n",
    "\n",
    "df['BsmtExposure'] = df['BsmtExposure'].fillna('No')"
   ]
  },
  {
   "cell_type": "code",
   "execution_count": 65,
   "id": "3380f6e8",
   "metadata": {},
   "outputs": [],
   "source": [
    "House = {'BsmtExposure': {\n",
    "    'Av':'Yes',\n",
    "    'Gd':'Yes',\n",
    "    'Mn':'Yes'\n",
    "}} \n",
    "\n",
    "df['BsmtExposure'] = df.replace(House)['BsmtExposure']"
   ]
  },
  {
   "cell_type": "code",
   "execution_count": 66,
   "id": "e6618f68",
   "metadata": {},
   "outputs": [
    {
     "data": {
      "text/plain": [
       "Unf    430\n",
       "GLQ    418\n",
       "ALQ    220\n",
       "BLQ    148\n",
       "Rec    133\n",
       "LwQ     74\n",
       "Name: BsmtFinType1, dtype: int64"
      ]
     },
     "execution_count": 66,
     "metadata": {},
     "output_type": "execute_result"
    }
   ],
   "source": [
    "# BaseFinType1\n",
    "\n",
    "df['BsmtFinType1'].value_counts()"
   ]
  },
  {
   "cell_type": "code",
   "execution_count": 67,
   "id": "e1a68a28",
   "metadata": {},
   "outputs": [],
   "source": [
    "# Imputing null values with mode\n",
    "\n",
    "df['BsmtFinType1'] = df['BsmtFinType1'].fillna('No Basement')"
   ]
  },
  {
   "cell_type": "code",
   "execution_count": 68,
   "id": "dda52938",
   "metadata": {},
   "outputs": [
    {
     "data": {
      "text/plain": [
       "Unf    1256\n",
       "Rec      54\n",
       "LwQ      46\n",
       "BLQ      33\n",
       "ALQ      19\n",
       "GLQ      14\n",
       "Name: BsmtFinType2, dtype: int64"
      ]
     },
     "execution_count": 68,
     "metadata": {},
     "output_type": "execute_result"
    }
   ],
   "source": [
    "# BsmtFinype2 is an extension for BsmtFinType1 and can be dropped because most of them are unfininshed\n",
    "\n",
    "df['BsmtFinType2'].value_counts()"
   ]
  },
  {
   "cell_type": "code",
   "execution_count": 69,
   "id": "60de9819",
   "metadata": {},
   "outputs": [],
   "source": [
    "# Dropping BsmtFinType2\n",
    "df = df.drop(['BsmtFinType2'],axis=1)"
   ]
  },
  {
   "cell_type": "code",
   "execution_count": 70,
   "id": "d36deaeb",
   "metadata": {},
   "outputs": [],
   "source": [
    "# TotalBsmtSf = BsmtFinSF1 + BsmtFinSF2\n",
    "# Hence both BsmtFinSF1 and BsmtFinSF2 can be dropped\n",
    "\n",
    "df = df.drop(['BsmtFinSF1', 'BsmtFinSF2'],axis=1)"
   ]
  },
  {
   "cell_type": "code",
   "execution_count": 71,
   "id": "61f086cd",
   "metadata": {},
   "outputs": [],
   "source": [
    "# Both FinishedBsmt and  UnfinishedBsmt can be made as a single feature\n",
    "# As anyone can finish basement in unfinished area after purchasing\n",
    "# Hence we can drop BsmtUnfSF\n",
    "\n",
    "df = df.drop(['BsmtUnfSF'],axis=1)"
   ]
  },
  {
   "cell_type": "code",
   "execution_count": 72,
   "id": "b002c842",
   "metadata": {},
   "outputs": [
    {
     "data": {
      "text/plain": [
       "GasA     1428\n",
       "GasW       18\n",
       "Grav        7\n",
       "Wall        4\n",
       "OthW        2\n",
       "Floor       1\n",
       "Name: Heating, dtype: int64"
      ]
     },
     "execution_count": 72,
     "metadata": {},
     "output_type": "execute_result"
    }
   ],
   "source": [
    "# Heating \n",
    "\n",
    "df['Heating'].value_counts()"
   ]
  },
  {
   "cell_type": "code",
   "execution_count": 73,
   "id": "a27eea71",
   "metadata": {},
   "outputs": [],
   "source": [
    "# Heating can be dropped beacuse most of the values are from GasA\n",
    "df = df.drop(['Heating'],axis=1)"
   ]
  },
  {
   "cell_type": "code",
   "execution_count": 74,
   "id": "a863528b",
   "metadata": {},
   "outputs": [
    {
     "data": {
      "text/plain": [
       "Ex    741\n",
       "TA    428\n",
       "Gd    241\n",
       "Fa     49\n",
       "Po      1\n",
       "Name: HeatingQC, dtype: int64"
      ]
     },
     "execution_count": 74,
     "metadata": {},
     "output_type": "execute_result"
    }
   ],
   "source": [
    "df['HeatingQC'].value_counts()"
   ]
  },
  {
   "cell_type": "code",
   "execution_count": 75,
   "id": "f88b5393",
   "metadata": {},
   "outputs": [],
   "source": [
    "# Most of the values in HeatingQC are good so the column can be dropped\n",
    "df = df.drop(['HeatingQC'],axis=1)"
   ]
  },
  {
   "cell_type": "code",
   "execution_count": 76,
   "id": "19fa5701",
   "metadata": {},
   "outputs": [
    {
     "data": {
      "text/plain": [
       "Y    1365\n",
       "N      95\n",
       "Name: CentralAir, dtype: int64"
      ]
     },
     "execution_count": 76,
     "metadata": {},
     "output_type": "execute_result"
    }
   ],
   "source": [
    "df['CentralAir'].value_counts()"
   ]
  },
  {
   "cell_type": "code",
   "execution_count": 77,
   "id": "6af92e30",
   "metadata": {},
   "outputs": [],
   "source": [
    "# Most of the values in Central Air are good so the column can be dropped\n",
    "df = df.drop(['CentralAir'],axis=1)"
   ]
  },
  {
   "cell_type": "code",
   "execution_count": 78,
   "id": "6c04cdc5",
   "metadata": {},
   "outputs": [
    {
     "data": {
      "text/plain": [
       "SBrkr    1334\n",
       "FuseA      94\n",
       "FuseF      27\n",
       "FuseP       3\n",
       "Mix         1\n",
       "Name: Electrical, dtype: int64"
      ]
     },
     "execution_count": 78,
     "metadata": {},
     "output_type": "execute_result"
    }
   ],
   "source": [
    "df['Electrical'].value_counts()"
   ]
  },
  {
   "cell_type": "code",
   "execution_count": 79,
   "id": "81e27b42",
   "metadata": {},
   "outputs": [],
   "source": [
    "# Most of the values in Electrical are good so the column can be dropped\n",
    "df = df.drop(['Electrical'],axis=1)"
   ]
  },
  {
   "cell_type": "code",
   "execution_count": 80,
   "id": "29690aea",
   "metadata": {},
   "outputs": [
    {
     "data": {
      "text/plain": [
       "0      98.219178\n",
       "80      0.205479\n",
       "360     0.136986\n",
       "205     0.068493\n",
       "479     0.068493\n",
       "397     0.068493\n",
       "514     0.068493\n",
       "120     0.068493\n",
       "481     0.068493\n",
       "232     0.068493\n",
       "53      0.068493\n",
       "515     0.068493\n",
       "156     0.068493\n",
       "473     0.068493\n",
       "420     0.068493\n",
       "390     0.068493\n",
       "371     0.068493\n",
       "392     0.068493\n",
       "144     0.068493\n",
       "572     0.068493\n",
       "528     0.068493\n",
       "234     0.068493\n",
       "513     0.068493\n",
       "384     0.068493\n",
       "Name: LowQualFinSF, dtype: float64"
      ]
     },
     "execution_count": 80,
     "metadata": {},
     "output_type": "execute_result"
    }
   ],
   "source": [
    "df['LowQualFinSF'].value_counts()*100/len(df)"
   ]
  },
  {
   "cell_type": "code",
   "execution_count": 81,
   "id": "7bb07db8",
   "metadata": {},
   "outputs": [],
   "source": [
    "# Most of the houses dont have low quality finished , so this feature can be dropped\n",
    "\n",
    "df = df.drop(['LowQualFinSF'],axis=1)"
   ]
  },
  {
   "cell_type": "code",
   "execution_count": 82,
   "id": "20166eb4",
   "metadata": {},
   "outputs": [
    {
     "data": {
      "text/plain": [
       "0    856\n",
       "1    588\n",
       "2     15\n",
       "3      1\n",
       "Name: BsmtFullBath, dtype: int64"
      ]
     },
     "execution_count": 82,
     "metadata": {},
     "output_type": "execute_result"
    }
   ],
   "source": [
    "# BsmtFullbath this can be either yes or No as most \n",
    "\n",
    "df['BsmtFullBath'].value_counts()"
   ]
  },
  {
   "cell_type": "code",
   "execution_count": 83,
   "id": "89859746",
   "metadata": {},
   "outputs": [
    {
     "data": {
      "text/plain": [
       "0    913\n",
       "1    535\n",
       "2     12\n",
       "Name: HalfBath, dtype: int64"
      ]
     },
     "execution_count": 83,
     "metadata": {},
     "output_type": "execute_result"
    }
   ],
   "source": [
    "# Halfbath this can be either yes or No as most \n",
    "\n",
    "df['HalfBath'].value_counts()"
   ]
  },
  {
   "cell_type": "code",
   "execution_count": 84,
   "id": "f22e2992",
   "metadata": {},
   "outputs": [
    {
     "name": "stdout",
     "output_type": "stream",
     "text": [
      "0    1378\n",
      "1      80\n",
      "2       2\n",
      "Name: BsmtHalfBath, dtype: int64\n"
     ]
    }
   ],
   "source": [
    "print(df['BsmtHalfBath'].value_counts())\n",
    "\n",
    "#Most of the houses sont have basement half bathroom so the column can be ignored\n",
    "df = df.drop(['BsmtHalfBath'],axis=1)"
   ]
  },
  {
   "cell_type": "code",
   "execution_count": 85,
   "id": "232225a7",
   "metadata": {},
   "outputs": [
    {
     "data": {
      "text/plain": [
       "864     22\n",
       "1040    14\n",
       "894     11\n",
       "1456    10\n",
       "848     10\n",
       "        ..\n",
       "2296     1\n",
       "1123     1\n",
       "1199     1\n",
       "1473     1\n",
       "1256     1\n",
       "Name: GrLivArea, Length: 861, dtype: int64"
      ]
     },
     "execution_count": 85,
     "metadata": {},
     "output_type": "execute_result"
    }
   ],
   "source": [
    "df['GrLivArea'].value_counts()  "
   ]
  },
  {
   "cell_type": "code",
   "execution_count": 86,
   "id": "097c7d85",
   "metadata": {},
   "outputs": [
    {
     "name": "stdout",
     "output_type": "stream",
     "text": [
      "TA    735\n",
      "Gd    586\n",
      "Ex    100\n",
      "Fa     39\n",
      "Name: KitchenQual, dtype: int64\n"
     ]
    }
   ],
   "source": [
    "# KitchenQual\n",
    "print(df['KitchenQual'].value_counts())\n",
    "\n",
    "# Most of the Quality values are typical and Good so\n",
    "# Kitchen quality can be ignored\n",
    "\n",
    "df = df.drop(['KitchenQual'],axis=1)"
   ]
  },
  {
   "cell_type": "code",
   "execution_count": 87,
   "id": "1239ca7e",
   "metadata": {},
   "outputs": [
    {
     "name": "stdout",
     "output_type": "stream",
     "text": [
      "1    1392\n",
      "2      65\n",
      "3       2\n",
      "0       1\n",
      "Name: KitchenAbvGr, dtype: int64\n"
     ]
    }
   ],
   "source": [
    "# KitchenAbvGr\n",
    "print(df['KitchenAbvGr'].value_counts())\n",
    "\n",
    "# Most of the Quality values are 1 kitchen so,\n",
    "#  KitchenAbvGr can be ignored\n",
    "\n",
    "df = df.drop(['KitchenAbvGr'],axis=1)"
   ]
  },
  {
   "cell_type": "code",
   "execution_count": 88,
   "id": "8daf5a52",
   "metadata": {},
   "outputs": [
    {
     "name": "stdout",
     "output_type": "stream",
     "text": [
      "Typ     1360\n",
      "Min2      34\n",
      "Min1      31\n",
      "Mod       15\n",
      "Maj1      14\n",
      "Maj2       5\n",
      "Sev        1\n",
      "Name: Functional, dtype: int64\n"
     ]
    }
   ],
   "source": [
    "# Functional\n",
    "print(df['Functional'].value_counts())\n",
    "\n",
    "# Most of the Functional values are Typical,\n",
    "#  Functional can be ignored\n",
    "\n",
    "df = df.drop(['Functional'],axis=1)"
   ]
  },
  {
   "cell_type": "code",
   "execution_count": 89,
   "id": "b6962a35",
   "metadata": {},
   "outputs": [
    {
     "name": "stdout",
     "output_type": "stream",
     "text": [
      "Gd    380\n",
      "TA    313\n",
      "Fa     33\n",
      "Ex     24\n",
      "Po     20\n",
      "Name: FireplaceQu, dtype: int64\n",
      "\n",
      " Null values:  690\n"
     ]
    }
   ],
   "source": [
    "# FireplaceQu\n",
    "print(df['FireplaceQu'].value_counts())\n",
    "print('\\n Null values: ', df['FireplaceQu'].isna().sum())\n",
    "# Most of the FireplaceQu values are Typical and Good also many Null calues,\n",
    "# FireplaceQu can be ignored\n",
    "\n",
    "df = df.drop(['FireplaceQu'],axis=1)"
   ]
  },
  {
   "cell_type": "code",
   "execution_count": 90,
   "id": "d3a9d00c",
   "metadata": {},
   "outputs": [
    {
     "name": "stdout",
     "output_type": "stream",
     "text": [
      "\n",
      " Null values:  81\n",
      "TA    1311\n",
      "No      81\n",
      "Fa      48\n",
      "Gd      14\n",
      "Ex       3\n",
      "Po       3\n",
      "Name: GarageQual, dtype: int64\n"
     ]
    }
   ],
   "source": [
    "# GarageQual\n",
    "\n",
    "print('\\n Null values: ', df['GarageQual'].isna().sum())\n",
    "\n",
    "# NA in datset refers to no garage\n",
    "df['GarageQual'] = df['GarageQual'].fillna('No')\n",
    "\n",
    "print(df['GarageQual'].value_counts())\n",
    "\n",
    "# Most of the GarageQual values are Typical and Good also many Null calues,\n",
    "# GarageQual can be ignored\n",
    "\n",
    "df = df.drop(['GarageQual'],axis=1)"
   ]
  },
  {
   "cell_type": "code",
   "execution_count": 91,
   "id": "7f6bd731",
   "metadata": {},
   "outputs": [
    {
     "name": "stdout",
     "output_type": "stream",
     "text": [
      "\n",
      " Null values:  81\n",
      "TA    1326\n",
      "No      81\n",
      "Fa      35\n",
      "Gd       9\n",
      "Po       7\n",
      "Ex       2\n",
      "Name: GarageCond, dtype: int64\n"
     ]
    }
   ],
   "source": [
    "# GarageCond\n",
    "print('\\n Null values: ', df['GarageCond'].isna().sum())\n",
    "\n",
    "# NA in datset refers to no garage\n",
    "df['GarageCond'] = df['GarageCond'].fillna('No')\n",
    "\n",
    "print(df['GarageCond'].value_counts())\n",
    "\n",
    "# Most of the GarageCond values are Typical and Good also many Null calues,\n",
    "# GarageCond can be ignored\n",
    "\n",
    "df = df.drop(['GarageCond'],axis=1)"
   ]
  },
  {
   "cell_type": "code",
   "execution_count": 92,
   "id": "f77cd1ed",
   "metadata": {},
   "outputs": [],
   "source": [
    "# Garage Year Built can be ignored as its not important in business aspect\n",
    "df = df.drop(['GarageYrBlt'],axis=1)"
   ]
  },
  {
   "cell_type": "code",
   "execution_count": 93,
   "id": "063fe789",
   "metadata": {},
   "outputs": [],
   "source": [
    "# GarageType\n",
    "\n",
    "df['GarageType'] = df['GarageType'].fillna('No Garage')"
   ]
  },
  {
   "cell_type": "code",
   "execution_count": 94,
   "id": "2ee8f75f",
   "metadata": {},
   "outputs": [],
   "source": [
    "# Garage Cars is more significant than Garage Area, it tells occupancy of cars\n",
    "# GarageArea can be dropped\n",
    "\n",
    "df = df.drop(['GarageArea'],axis=1)"
   ]
  },
  {
   "cell_type": "code",
   "execution_count": 95,
   "id": "debc0066",
   "metadata": {},
   "outputs": [],
   "source": [
    "df['GarageFinish'].value_counts()\n",
    "\n",
    "df['GarageFinish'] = df['GarageFinish'].fillna('No Garage')"
   ]
  },
  {
   "cell_type": "code",
   "execution_count": 96,
   "id": "c7fce513",
   "metadata": {},
   "outputs": [
    {
     "name": "stdout",
     "output_type": "stream",
     "text": [
      "\n",
      "Null values:  0\n",
      "Y    1340\n",
      "N      90\n",
      "P      30\n",
      "Name: PavedDrive, dtype: int64\n"
     ]
    }
   ],
   "source": [
    "# PavedDrive\n",
    "print('\\nNull values: ', df['PavedDrive'].isna().sum())\n",
    "\n",
    "print(df['PavedDrive'].value_counts())\n",
    "\n",
    "# Most of the GarageCond values are Typical and Good also many Null calues,\n",
    "# GarageCond can be ignored\n",
    "\n",
    "df = df.drop(['PavedDrive'],axis=1)"
   ]
  },
  {
   "cell_type": "code",
   "execution_count": 97,
   "id": "d1370093",
   "metadata": {},
   "outputs": [
    {
     "name": "stdout",
     "output_type": "stream",
     "text": [
      "\n",
      "Null values:  0\n",
      "0      1436\n",
      "168       3\n",
      "144       2\n",
      "180       2\n",
      "216       2\n",
      "290       1\n",
      "153       1\n",
      "96        1\n",
      "23        1\n",
      "162       1\n",
      "182       1\n",
      "196       1\n",
      "320       1\n",
      "245       1\n",
      "238       1\n",
      "508       1\n",
      "140       1\n",
      "130       1\n",
      "407       1\n",
      "304       1\n",
      "Name: 3SsnPorch, dtype: int64\n"
     ]
    }
   ],
   "source": [
    "# 3SsnPorch\n",
    "print('\\nNull values: ', df['3SsnPorch'].isna().sum())\n",
    "\n",
    "print(df['3SsnPorch'].value_counts())\n",
    "\n",
    "# Most of the 3SsnPorch values are 0 means most wont have it\n",
    "# 3SsnPorch can be ignored\n",
    "\n",
    "df = df.drop(['3SsnPorch'],axis=1)"
   ]
  },
  {
   "cell_type": "code",
   "execution_count": 98,
   "id": "8b551054",
   "metadata": {},
   "outputs": [
    {
     "name": "stdout",
     "output_type": "stream",
     "text": [
      "\n",
      "Null values:  0\n",
      "0      1344\n",
      "192       6\n",
      "120       5\n",
      "224       5\n",
      "189       4\n",
      "       ... \n",
      "291       1\n",
      "260       1\n",
      "385       1\n",
      "156       1\n",
      "40        1\n",
      "Name: ScreenPorch, Length: 76, dtype: int64\n"
     ]
    }
   ],
   "source": [
    "# ScreenPorch\n",
    "print('\\nNull values: ', df['ScreenPorch'].isna().sum())\n",
    "\n",
    "print(df['ScreenPorch'].value_counts())\n",
    "\n",
    "# Most of the ScreenPorch values are 0 means most wont have it\n",
    "# ScreenPorch can be ignored\n",
    "\n",
    "df = df.drop(['ScreenPorch'],axis=1)"
   ]
  },
  {
   "cell_type": "code",
   "execution_count": 99,
   "id": "f7603fa7",
   "metadata": {},
   "outputs": [
    {
     "name": "stdout",
     "output_type": "stream",
     "text": [
      "\n",
      "Null values:  1453\n",
      "Gd    3\n",
      "Ex    2\n",
      "Fa    2\n",
      "Name: PoolQC, dtype: int64\n"
     ]
    }
   ],
   "source": [
    "# PoolQC\n",
    "print('\\nNull values: ', df['PoolQC'].isna().sum())\n",
    "\n",
    "print(df['PoolQC'].value_counts())\n",
    "\n",
    "# Most of the PoolQC values are null values\n",
    "# PoolQC can be ignored\n",
    "\n",
    "df = df.drop(['PoolQC'],axis=1)"
   ]
  },
  {
   "cell_type": "code",
   "execution_count": 100,
   "id": "096d348c",
   "metadata": {},
   "outputs": [
    {
     "name": "stdout",
     "output_type": "stream",
     "text": [
      "\n",
      "Null values:  1179\n",
      "MnPrv    157\n",
      "GdPrv     59\n",
      "GdWo      54\n",
      "MnWw      11\n",
      "Name: Fence, dtype: int64\n"
     ]
    }
   ],
   "source": [
    "# Fence\n",
    "print('\\nNull values: ', df['Fence'].isna().sum())\n",
    "\n",
    "print(df['Fence'].value_counts())\n",
    "\n",
    "# Most of the Fence values are null values\n",
    "# Fence can be ignored\n",
    "\n",
    "df = df.drop(['Fence'],axis=1)"
   ]
  },
  {
   "cell_type": "code",
   "execution_count": 101,
   "id": "f9de9e62",
   "metadata": {},
   "outputs": [
    {
     "name": "stdout",
     "output_type": "stream",
     "text": [
      "\n",
      "Null values:  1406\n",
      "Shed    49\n",
      "Gar2     2\n",
      "Othr     2\n",
      "TenC     1\n",
      "Name: MiscFeature, dtype: int64\n"
     ]
    }
   ],
   "source": [
    "# MiscFeature\n",
    "print('\\nNull values: ', df['MiscFeature'].isna().sum())\n",
    "\n",
    "print(df['MiscFeature'].value_counts())\n",
    "\n",
    "# Most of the MiscFeature values are null values\n",
    "# MiscFeature can be ignored\n",
    "\n",
    "df = df.drop(['MiscFeature'],axis=1)\n",
    "\n",
    "# MiscValues\n",
    "# we should sropMiscValues as MiscFeatures are dropped\n",
    "df = df.drop(['MiscVal'],axis=1)"
   ]
  },
  {
   "cell_type": "code",
   "execution_count": 102,
   "id": "8c2b57aa",
   "metadata": {},
   "outputs": [
    {
     "data": {
      "text/plain": [
       "6     253\n",
       "7     234\n",
       "5     204\n",
       "4     141\n",
       "8     122\n",
       "3     106\n",
       "10     89\n",
       "11     79\n",
       "9      63\n",
       "12     59\n",
       "1      58\n",
       "2      52\n",
       "Name: MoSold, dtype: int64"
      ]
     },
     "execution_count": 102,
     "metadata": {},
     "output_type": "execute_result"
    }
   ],
   "source": [
    "df['MoSold'].value_counts()"
   ]
  },
  {
   "cell_type": "code",
   "execution_count": 103,
   "id": "80475b63",
   "metadata": {},
   "outputs": [
    {
     "name": "stdout",
     "output_type": "stream",
     "text": [
      "WD       1267\n",
      "New       122\n",
      "COD        43\n",
      "ConLD       9\n",
      "ConLI       5\n",
      "ConLw       5\n",
      "CWD         4\n",
      "Oth         3\n",
      "Con         2\n",
      "Name: SaleType, dtype: int64\n"
     ]
    }
   ],
   "source": [
    "#Saletype\n",
    "\n",
    "print(df['SaleType'].value_counts())\n",
    "\n",
    " "
   ]
  },
  {
   "cell_type": "code",
   "execution_count": 104,
   "id": "cf010d7a",
   "metadata": {},
   "outputs": [
    {
     "name": "stdout",
     "output_type": "stream",
     "text": [
      "Normal     1198\n",
      "Partial     125\n",
      "Abnorml     101\n",
      "Family       20\n",
      "Alloca       12\n",
      "AdjLand       4\n",
      "Name: SaleCondition, dtype: int64\n"
     ]
    }
   ],
   "source": [
    "# SaleCondition\n",
    "\n",
    "print(df['SaleCondition'].value_counts())"
   ]
  },
  {
   "cell_type": "code",
   "execution_count": 105,
   "id": "7157fc47",
   "metadata": {},
   "outputs": [
    {
     "data": {
      "text/plain": [
       "(1460, 42)"
      ]
     },
     "execution_count": 105,
     "metadata": {},
     "output_type": "execute_result"
    }
   ],
   "source": [
    "df.shape"
   ]
  },
  {
   "cell_type": "code",
   "execution_count": 106,
   "id": "b920543e",
   "metadata": {},
   "outputs": [
    {
     "data": {
      "text/html": [
       "<div>\n",
       "<style scoped>\n",
       "    .dataframe tbody tr th:only-of-type {\n",
       "        vertical-align: middle;\n",
       "    }\n",
       "\n",
       "    .dataframe tbody tr th {\n",
       "        vertical-align: top;\n",
       "    }\n",
       "\n",
       "    .dataframe thead th {\n",
       "        text-align: right;\n",
       "    }\n",
       "</style>\n",
       "<table border=\"1\" class=\"dataframe\">\n",
       "  <thead>\n",
       "    <tr style=\"text-align: right;\">\n",
       "      <th></th>\n",
       "      <th>MSSubClass</th>\n",
       "      <th>MSZoning</th>\n",
       "      <th>LotFrontage</th>\n",
       "      <th>LotArea</th>\n",
       "      <th>LotShape</th>\n",
       "      <th>LandContour</th>\n",
       "      <th>LotConfig</th>\n",
       "      <th>Neighborhood</th>\n",
       "      <th>BldgType</th>\n",
       "      <th>HouseStyle</th>\n",
       "      <th>...</th>\n",
       "      <th>GarageFinish</th>\n",
       "      <th>GarageCars</th>\n",
       "      <th>WoodDeckSF</th>\n",
       "      <th>OpenPorchSF</th>\n",
       "      <th>EnclosedPorch</th>\n",
       "      <th>PoolArea</th>\n",
       "      <th>MoSold</th>\n",
       "      <th>SaleType</th>\n",
       "      <th>SaleCondition</th>\n",
       "      <th>SalePrice</th>\n",
       "    </tr>\n",
       "  </thead>\n",
       "  <tbody>\n",
       "    <tr>\n",
       "      <th>count</th>\n",
       "      <td>1460.000000</td>\n",
       "      <td>1460</td>\n",
       "      <td>1460.000000</td>\n",
       "      <td>1460.000000</td>\n",
       "      <td>1460</td>\n",
       "      <td>1460</td>\n",
       "      <td>1460</td>\n",
       "      <td>1460</td>\n",
       "      <td>1460</td>\n",
       "      <td>1460</td>\n",
       "      <td>...</td>\n",
       "      <td>1460</td>\n",
       "      <td>1460.000000</td>\n",
       "      <td>1460.000000</td>\n",
       "      <td>1460.000000</td>\n",
       "      <td>1460.000000</td>\n",
       "      <td>1460.000000</td>\n",
       "      <td>1460.000000</td>\n",
       "      <td>1460</td>\n",
       "      <td>1460</td>\n",
       "      <td>1460.000000</td>\n",
       "    </tr>\n",
       "    <tr>\n",
       "      <th>unique</th>\n",
       "      <td>NaN</td>\n",
       "      <td>5</td>\n",
       "      <td>NaN</td>\n",
       "      <td>NaN</td>\n",
       "      <td>4</td>\n",
       "      <td>4</td>\n",
       "      <td>5</td>\n",
       "      <td>25</td>\n",
       "      <td>5</td>\n",
       "      <td>8</td>\n",
       "      <td>...</td>\n",
       "      <td>4</td>\n",
       "      <td>NaN</td>\n",
       "      <td>NaN</td>\n",
       "      <td>NaN</td>\n",
       "      <td>NaN</td>\n",
       "      <td>NaN</td>\n",
       "      <td>NaN</td>\n",
       "      <td>9</td>\n",
       "      <td>6</td>\n",
       "      <td>NaN</td>\n",
       "    </tr>\n",
       "    <tr>\n",
       "      <th>top</th>\n",
       "      <td>NaN</td>\n",
       "      <td>RL</td>\n",
       "      <td>NaN</td>\n",
       "      <td>NaN</td>\n",
       "      <td>Reg</td>\n",
       "      <td>Lvl</td>\n",
       "      <td>Inside</td>\n",
       "      <td>NAmes</td>\n",
       "      <td>1Fam</td>\n",
       "      <td>1Story</td>\n",
       "      <td>...</td>\n",
       "      <td>Unf</td>\n",
       "      <td>NaN</td>\n",
       "      <td>NaN</td>\n",
       "      <td>NaN</td>\n",
       "      <td>NaN</td>\n",
       "      <td>NaN</td>\n",
       "      <td>NaN</td>\n",
       "      <td>WD</td>\n",
       "      <td>Normal</td>\n",
       "      <td>NaN</td>\n",
       "    </tr>\n",
       "    <tr>\n",
       "      <th>freq</th>\n",
       "      <td>NaN</td>\n",
       "      <td>1151</td>\n",
       "      <td>NaN</td>\n",
       "      <td>NaN</td>\n",
       "      <td>925</td>\n",
       "      <td>1311</td>\n",
       "      <td>1052</td>\n",
       "      <td>225</td>\n",
       "      <td>1220</td>\n",
       "      <td>726</td>\n",
       "      <td>...</td>\n",
       "      <td>605</td>\n",
       "      <td>NaN</td>\n",
       "      <td>NaN</td>\n",
       "      <td>NaN</td>\n",
       "      <td>NaN</td>\n",
       "      <td>NaN</td>\n",
       "      <td>NaN</td>\n",
       "      <td>1267</td>\n",
       "      <td>1198</td>\n",
       "      <td>NaN</td>\n",
       "    </tr>\n",
       "    <tr>\n",
       "      <th>mean</th>\n",
       "      <td>56.897260</td>\n",
       "      <td>NaN</td>\n",
       "      <td>69.863699</td>\n",
       "      <td>10516.828082</td>\n",
       "      <td>NaN</td>\n",
       "      <td>NaN</td>\n",
       "      <td>NaN</td>\n",
       "      <td>NaN</td>\n",
       "      <td>NaN</td>\n",
       "      <td>NaN</td>\n",
       "      <td>...</td>\n",
       "      <td>NaN</td>\n",
       "      <td>1.767123</td>\n",
       "      <td>94.244521</td>\n",
       "      <td>46.660274</td>\n",
       "      <td>21.954110</td>\n",
       "      <td>2.758904</td>\n",
       "      <td>6.321918</td>\n",
       "      <td>NaN</td>\n",
       "      <td>NaN</td>\n",
       "      <td>180921.195890</td>\n",
       "    </tr>\n",
       "    <tr>\n",
       "      <th>std</th>\n",
       "      <td>42.300571</td>\n",
       "      <td>NaN</td>\n",
       "      <td>22.027677</td>\n",
       "      <td>9981.264932</td>\n",
       "      <td>NaN</td>\n",
       "      <td>NaN</td>\n",
       "      <td>NaN</td>\n",
       "      <td>NaN</td>\n",
       "      <td>NaN</td>\n",
       "      <td>NaN</td>\n",
       "      <td>...</td>\n",
       "      <td>NaN</td>\n",
       "      <td>0.747315</td>\n",
       "      <td>125.338794</td>\n",
       "      <td>66.256028</td>\n",
       "      <td>61.119149</td>\n",
       "      <td>40.177307</td>\n",
       "      <td>2.703626</td>\n",
       "      <td>NaN</td>\n",
       "      <td>NaN</td>\n",
       "      <td>79442.502883</td>\n",
       "    </tr>\n",
       "    <tr>\n",
       "      <th>min</th>\n",
       "      <td>20.000000</td>\n",
       "      <td>NaN</td>\n",
       "      <td>21.000000</td>\n",
       "      <td>1300.000000</td>\n",
       "      <td>NaN</td>\n",
       "      <td>NaN</td>\n",
       "      <td>NaN</td>\n",
       "      <td>NaN</td>\n",
       "      <td>NaN</td>\n",
       "      <td>NaN</td>\n",
       "      <td>...</td>\n",
       "      <td>NaN</td>\n",
       "      <td>0.000000</td>\n",
       "      <td>0.000000</td>\n",
       "      <td>0.000000</td>\n",
       "      <td>0.000000</td>\n",
       "      <td>0.000000</td>\n",
       "      <td>1.000000</td>\n",
       "      <td>NaN</td>\n",
       "      <td>NaN</td>\n",
       "      <td>34900.000000</td>\n",
       "    </tr>\n",
       "    <tr>\n",
       "      <th>25%</th>\n",
       "      <td>20.000000</td>\n",
       "      <td>NaN</td>\n",
       "      <td>60.000000</td>\n",
       "      <td>7553.500000</td>\n",
       "      <td>NaN</td>\n",
       "      <td>NaN</td>\n",
       "      <td>NaN</td>\n",
       "      <td>NaN</td>\n",
       "      <td>NaN</td>\n",
       "      <td>NaN</td>\n",
       "      <td>...</td>\n",
       "      <td>NaN</td>\n",
       "      <td>1.000000</td>\n",
       "      <td>0.000000</td>\n",
       "      <td>0.000000</td>\n",
       "      <td>0.000000</td>\n",
       "      <td>0.000000</td>\n",
       "      <td>5.000000</td>\n",
       "      <td>NaN</td>\n",
       "      <td>NaN</td>\n",
       "      <td>129975.000000</td>\n",
       "    </tr>\n",
       "    <tr>\n",
       "      <th>50%</th>\n",
       "      <td>50.000000</td>\n",
       "      <td>NaN</td>\n",
       "      <td>69.000000</td>\n",
       "      <td>9478.500000</td>\n",
       "      <td>NaN</td>\n",
       "      <td>NaN</td>\n",
       "      <td>NaN</td>\n",
       "      <td>NaN</td>\n",
       "      <td>NaN</td>\n",
       "      <td>NaN</td>\n",
       "      <td>...</td>\n",
       "      <td>NaN</td>\n",
       "      <td>2.000000</td>\n",
       "      <td>0.000000</td>\n",
       "      <td>25.000000</td>\n",
       "      <td>0.000000</td>\n",
       "      <td>0.000000</td>\n",
       "      <td>6.000000</td>\n",
       "      <td>NaN</td>\n",
       "      <td>NaN</td>\n",
       "      <td>163000.000000</td>\n",
       "    </tr>\n",
       "    <tr>\n",
       "      <th>75%</th>\n",
       "      <td>70.000000</td>\n",
       "      <td>NaN</td>\n",
       "      <td>79.000000</td>\n",
       "      <td>11601.500000</td>\n",
       "      <td>NaN</td>\n",
       "      <td>NaN</td>\n",
       "      <td>NaN</td>\n",
       "      <td>NaN</td>\n",
       "      <td>NaN</td>\n",
       "      <td>NaN</td>\n",
       "      <td>...</td>\n",
       "      <td>NaN</td>\n",
       "      <td>2.000000</td>\n",
       "      <td>168.000000</td>\n",
       "      <td>68.000000</td>\n",
       "      <td>0.000000</td>\n",
       "      <td>0.000000</td>\n",
       "      <td>8.000000</td>\n",
       "      <td>NaN</td>\n",
       "      <td>NaN</td>\n",
       "      <td>214000.000000</td>\n",
       "    </tr>\n",
       "    <tr>\n",
       "      <th>max</th>\n",
       "      <td>190.000000</td>\n",
       "      <td>NaN</td>\n",
       "      <td>313.000000</td>\n",
       "      <td>215245.000000</td>\n",
       "      <td>NaN</td>\n",
       "      <td>NaN</td>\n",
       "      <td>NaN</td>\n",
       "      <td>NaN</td>\n",
       "      <td>NaN</td>\n",
       "      <td>NaN</td>\n",
       "      <td>...</td>\n",
       "      <td>NaN</td>\n",
       "      <td>4.000000</td>\n",
       "      <td>857.000000</td>\n",
       "      <td>547.000000</td>\n",
       "      <td>552.000000</td>\n",
       "      <td>738.000000</td>\n",
       "      <td>12.000000</td>\n",
       "      <td>NaN</td>\n",
       "      <td>NaN</td>\n",
       "      <td>755000.000000</td>\n",
       "    </tr>\n",
       "  </tbody>\n",
       "</table>\n",
       "<p>11 rows × 42 columns</p>\n",
       "</div>"
      ],
      "text/plain": [
       "         MSSubClass MSZoning  LotFrontage        LotArea LotShape LandContour  \\\n",
       "count   1460.000000     1460  1460.000000    1460.000000     1460        1460   \n",
       "unique          NaN        5          NaN            NaN        4           4   \n",
       "top             NaN       RL          NaN            NaN      Reg         Lvl   \n",
       "freq            NaN     1151          NaN            NaN      925        1311   \n",
       "mean      56.897260      NaN    69.863699   10516.828082      NaN         NaN   \n",
       "std       42.300571      NaN    22.027677    9981.264932      NaN         NaN   \n",
       "min       20.000000      NaN    21.000000    1300.000000      NaN         NaN   \n",
       "25%       20.000000      NaN    60.000000    7553.500000      NaN         NaN   \n",
       "50%       50.000000      NaN    69.000000    9478.500000      NaN         NaN   \n",
       "75%       70.000000      NaN    79.000000   11601.500000      NaN         NaN   \n",
       "max      190.000000      NaN   313.000000  215245.000000      NaN         NaN   \n",
       "\n",
       "       LotConfig Neighborhood BldgType HouseStyle  ...  GarageFinish  \\\n",
       "count       1460         1460     1460       1460  ...          1460   \n",
       "unique         5           25        5          8  ...             4   \n",
       "top       Inside        NAmes     1Fam     1Story  ...           Unf   \n",
       "freq        1052          225     1220        726  ...           605   \n",
       "mean         NaN          NaN      NaN        NaN  ...           NaN   \n",
       "std          NaN          NaN      NaN        NaN  ...           NaN   \n",
       "min          NaN          NaN      NaN        NaN  ...           NaN   \n",
       "25%          NaN          NaN      NaN        NaN  ...           NaN   \n",
       "50%          NaN          NaN      NaN        NaN  ...           NaN   \n",
       "75%          NaN          NaN      NaN        NaN  ...           NaN   \n",
       "max          NaN          NaN      NaN        NaN  ...           NaN   \n",
       "\n",
       "         GarageCars   WoodDeckSF  OpenPorchSF EnclosedPorch     PoolArea  \\\n",
       "count   1460.000000  1460.000000  1460.000000   1460.000000  1460.000000   \n",
       "unique          NaN          NaN          NaN           NaN          NaN   \n",
       "top             NaN          NaN          NaN           NaN          NaN   \n",
       "freq            NaN          NaN          NaN           NaN          NaN   \n",
       "mean       1.767123    94.244521    46.660274     21.954110     2.758904   \n",
       "std        0.747315   125.338794    66.256028     61.119149    40.177307   \n",
       "min        0.000000     0.000000     0.000000      0.000000     0.000000   \n",
       "25%        1.000000     0.000000     0.000000      0.000000     0.000000   \n",
       "50%        2.000000     0.000000    25.000000      0.000000     0.000000   \n",
       "75%        2.000000   168.000000    68.000000      0.000000     0.000000   \n",
       "max        4.000000   857.000000   547.000000    552.000000   738.000000   \n",
       "\n",
       "             MoSold  SaleType SaleCondition      SalePrice  \n",
       "count   1460.000000      1460          1460    1460.000000  \n",
       "unique          NaN         9             6            NaN  \n",
       "top             NaN        WD        Normal            NaN  \n",
       "freq            NaN      1267          1198            NaN  \n",
       "mean       6.321918       NaN           NaN  180921.195890  \n",
       "std        2.703626       NaN           NaN   79442.502883  \n",
       "min        1.000000       NaN           NaN   34900.000000  \n",
       "25%        5.000000       NaN           NaN  129975.000000  \n",
       "50%        6.000000       NaN           NaN  163000.000000  \n",
       "75%        8.000000       NaN           NaN  214000.000000  \n",
       "max       12.000000       NaN           NaN  755000.000000  \n",
       "\n",
       "[11 rows x 42 columns]"
      ]
     },
     "execution_count": 106,
     "metadata": {},
     "output_type": "execute_result"
    }
   ],
   "source": [
    "df.describe(include='all')"
   ]
  },
  {
   "cell_type": "code",
   "execution_count": 107,
   "id": "d647c68f",
   "metadata": {},
   "outputs": [
    {
     "data": {
      "text/plain": [
       "Index(['MSSubClass', 'MSZoning', 'LotFrontage', 'LotArea', 'LotShape',\n",
       "       'LandContour', 'LotConfig', 'Neighborhood', 'BldgType', 'HouseStyle',\n",
       "       'OverallQual', 'OverallCond', 'YearRemodAdd', 'RoofStyle',\n",
       "       'Exterior1st', 'Exterior2nd', 'MasVnrType', 'MasVnrArea', 'Foundation',\n",
       "       'BsmtExposure', 'BsmtFinType1', 'TotalBsmtSF', '1stFlrSF', '2ndFlrSF',\n",
       "       'GrLivArea', 'BsmtFullBath', 'FullBath', 'HalfBath', 'BedroomAbvGr',\n",
       "       'TotRmsAbvGrd', 'Fireplaces', 'GarageType', 'GarageFinish',\n",
       "       'GarageCars', 'WoodDeckSF', 'OpenPorchSF', 'EnclosedPorch', 'PoolArea',\n",
       "       'MoSold', 'SaleType', 'SaleCondition', 'SalePrice'],\n",
       "      dtype='object')"
      ]
     },
     "execution_count": 107,
     "metadata": {},
     "output_type": "execute_result"
    }
   ],
   "source": [
    "df.columns"
   ]
  },
  {
   "cell_type": "markdown",
   "id": "49074aef",
   "metadata": {},
   "source": [
    "### Model Building"
   ]
  },
  {
   "cell_type": "markdown",
   "id": "45ba407e",
   "metadata": {},
   "source": [
    "Categorical variables are dummy encoded by dropping the first column to avoid collinearlity among them"
   ]
  },
  {
   "cell_type": "code",
   "execution_count": 108,
   "id": "0c6dc66f",
   "metadata": {},
   "outputs": [],
   "source": [
    "clean_df = df.copy()"
   ]
  },
  {
   "cell_type": "code",
   "execution_count": 109,
   "id": "7ac0ddf9",
   "metadata": {},
   "outputs": [],
   "source": [
    "# dummy values are encoded for nominal values\n",
    "\n",
    "all_categorical_features = list(clean_df.select_dtypes(include=['object']).columns)\n",
    "\n",
    "dummy_encoding = pd.get_dummies(clean_df[all_categorical_features], drop_first=True)\n",
    "\n",
    "# Concatinating with existing datafraem\n",
    "df_cleaned = pd.concat([clean_df, dummy_encoding], axis=1)\n",
    "\n",
    "# Drop parent category column which are encoded \n",
    "df_cleaned = df_cleaned.drop(all_categorical_features , axis=1)"
   ]
  },
  {
   "cell_type": "code",
   "execution_count": 110,
   "id": "74ebab13",
   "metadata": {},
   "outputs": [
    {
     "data": {
      "text/html": [
       "<div>\n",
       "<style scoped>\n",
       "    .dataframe tbody tr th:only-of-type {\n",
       "        vertical-align: middle;\n",
       "    }\n",
       "\n",
       "    .dataframe tbody tr th {\n",
       "        vertical-align: top;\n",
       "    }\n",
       "\n",
       "    .dataframe thead th {\n",
       "        text-align: right;\n",
       "    }\n",
       "</style>\n",
       "<table border=\"1\" class=\"dataframe\">\n",
       "  <thead>\n",
       "    <tr style=\"text-align: right;\">\n",
       "      <th></th>\n",
       "      <th>MSSubClass</th>\n",
       "      <th>LotFrontage</th>\n",
       "      <th>LotArea</th>\n",
       "      <th>OverallQual</th>\n",
       "      <th>OverallCond</th>\n",
       "      <th>YearRemodAdd</th>\n",
       "      <th>MasVnrArea</th>\n",
       "      <th>TotalBsmtSF</th>\n",
       "      <th>1stFlrSF</th>\n",
       "      <th>2ndFlrSF</th>\n",
       "      <th>...</th>\n",
       "      <th>SaleType_ConLI</th>\n",
       "      <th>SaleType_ConLw</th>\n",
       "      <th>SaleType_New</th>\n",
       "      <th>SaleType_Oth</th>\n",
       "      <th>SaleType_WD</th>\n",
       "      <th>SaleCondition_AdjLand</th>\n",
       "      <th>SaleCondition_Alloca</th>\n",
       "      <th>SaleCondition_Family</th>\n",
       "      <th>SaleCondition_Normal</th>\n",
       "      <th>SaleCondition_Partial</th>\n",
       "    </tr>\n",
       "  </thead>\n",
       "  <tbody>\n",
       "    <tr>\n",
       "      <th>0</th>\n",
       "      <td>60</td>\n",
       "      <td>65.0</td>\n",
       "      <td>8450</td>\n",
       "      <td>7</td>\n",
       "      <td>5</td>\n",
       "      <td>5</td>\n",
       "      <td>196.0</td>\n",
       "      <td>856</td>\n",
       "      <td>856</td>\n",
       "      <td>854</td>\n",
       "      <td>...</td>\n",
       "      <td>0</td>\n",
       "      <td>0</td>\n",
       "      <td>0</td>\n",
       "      <td>0</td>\n",
       "      <td>1</td>\n",
       "      <td>0</td>\n",
       "      <td>0</td>\n",
       "      <td>0</td>\n",
       "      <td>1</td>\n",
       "      <td>0</td>\n",
       "    </tr>\n",
       "    <tr>\n",
       "      <th>1</th>\n",
       "      <td>20</td>\n",
       "      <td>80.0</td>\n",
       "      <td>9600</td>\n",
       "      <td>6</td>\n",
       "      <td>8</td>\n",
       "      <td>31</td>\n",
       "      <td>0.0</td>\n",
       "      <td>1262</td>\n",
       "      <td>1262</td>\n",
       "      <td>0</td>\n",
       "      <td>...</td>\n",
       "      <td>0</td>\n",
       "      <td>0</td>\n",
       "      <td>0</td>\n",
       "      <td>0</td>\n",
       "      <td>1</td>\n",
       "      <td>0</td>\n",
       "      <td>0</td>\n",
       "      <td>0</td>\n",
       "      <td>1</td>\n",
       "      <td>0</td>\n",
       "    </tr>\n",
       "    <tr>\n",
       "      <th>2</th>\n",
       "      <td>60</td>\n",
       "      <td>68.0</td>\n",
       "      <td>11250</td>\n",
       "      <td>7</td>\n",
       "      <td>5</td>\n",
       "      <td>6</td>\n",
       "      <td>162.0</td>\n",
       "      <td>920</td>\n",
       "      <td>920</td>\n",
       "      <td>866</td>\n",
       "      <td>...</td>\n",
       "      <td>0</td>\n",
       "      <td>0</td>\n",
       "      <td>0</td>\n",
       "      <td>0</td>\n",
       "      <td>1</td>\n",
       "      <td>0</td>\n",
       "      <td>0</td>\n",
       "      <td>0</td>\n",
       "      <td>1</td>\n",
       "      <td>0</td>\n",
       "    </tr>\n",
       "    <tr>\n",
       "      <th>3</th>\n",
       "      <td>70</td>\n",
       "      <td>60.0</td>\n",
       "      <td>9550</td>\n",
       "      <td>7</td>\n",
       "      <td>5</td>\n",
       "      <td>36</td>\n",
       "      <td>0.0</td>\n",
       "      <td>756</td>\n",
       "      <td>961</td>\n",
       "      <td>756</td>\n",
       "      <td>...</td>\n",
       "      <td>0</td>\n",
       "      <td>0</td>\n",
       "      <td>0</td>\n",
       "      <td>0</td>\n",
       "      <td>1</td>\n",
       "      <td>0</td>\n",
       "      <td>0</td>\n",
       "      <td>0</td>\n",
       "      <td>0</td>\n",
       "      <td>0</td>\n",
       "    </tr>\n",
       "    <tr>\n",
       "      <th>4</th>\n",
       "      <td>60</td>\n",
       "      <td>84.0</td>\n",
       "      <td>14260</td>\n",
       "      <td>8</td>\n",
       "      <td>5</td>\n",
       "      <td>8</td>\n",
       "      <td>350.0</td>\n",
       "      <td>1145</td>\n",
       "      <td>1145</td>\n",
       "      <td>1053</td>\n",
       "      <td>...</td>\n",
       "      <td>0</td>\n",
       "      <td>0</td>\n",
       "      <td>0</td>\n",
       "      <td>0</td>\n",
       "      <td>1</td>\n",
       "      <td>0</td>\n",
       "      <td>0</td>\n",
       "      <td>0</td>\n",
       "      <td>1</td>\n",
       "      <td>0</td>\n",
       "    </tr>\n",
       "    <tr>\n",
       "      <th>...</th>\n",
       "      <td>...</td>\n",
       "      <td>...</td>\n",
       "      <td>...</td>\n",
       "      <td>...</td>\n",
       "      <td>...</td>\n",
       "      <td>...</td>\n",
       "      <td>...</td>\n",
       "      <td>...</td>\n",
       "      <td>...</td>\n",
       "      <td>...</td>\n",
       "      <td>...</td>\n",
       "      <td>...</td>\n",
       "      <td>...</td>\n",
       "      <td>...</td>\n",
       "      <td>...</td>\n",
       "      <td>...</td>\n",
       "      <td>...</td>\n",
       "      <td>...</td>\n",
       "      <td>...</td>\n",
       "      <td>...</td>\n",
       "      <td>...</td>\n",
       "    </tr>\n",
       "    <tr>\n",
       "      <th>1455</th>\n",
       "      <td>60</td>\n",
       "      <td>62.0</td>\n",
       "      <td>7917</td>\n",
       "      <td>6</td>\n",
       "      <td>5</td>\n",
       "      <td>7</td>\n",
       "      <td>0.0</td>\n",
       "      <td>953</td>\n",
       "      <td>953</td>\n",
       "      <td>694</td>\n",
       "      <td>...</td>\n",
       "      <td>0</td>\n",
       "      <td>0</td>\n",
       "      <td>0</td>\n",
       "      <td>0</td>\n",
       "      <td>1</td>\n",
       "      <td>0</td>\n",
       "      <td>0</td>\n",
       "      <td>0</td>\n",
       "      <td>1</td>\n",
       "      <td>0</td>\n",
       "    </tr>\n",
       "    <tr>\n",
       "      <th>1456</th>\n",
       "      <td>20</td>\n",
       "      <td>85.0</td>\n",
       "      <td>13175</td>\n",
       "      <td>6</td>\n",
       "      <td>6</td>\n",
       "      <td>22</td>\n",
       "      <td>119.0</td>\n",
       "      <td>1542</td>\n",
       "      <td>2073</td>\n",
       "      <td>0</td>\n",
       "      <td>...</td>\n",
       "      <td>0</td>\n",
       "      <td>0</td>\n",
       "      <td>0</td>\n",
       "      <td>0</td>\n",
       "      <td>1</td>\n",
       "      <td>0</td>\n",
       "      <td>0</td>\n",
       "      <td>0</td>\n",
       "      <td>1</td>\n",
       "      <td>0</td>\n",
       "    </tr>\n",
       "    <tr>\n",
       "      <th>1457</th>\n",
       "      <td>70</td>\n",
       "      <td>66.0</td>\n",
       "      <td>9042</td>\n",
       "      <td>7</td>\n",
       "      <td>9</td>\n",
       "      <td>4</td>\n",
       "      <td>0.0</td>\n",
       "      <td>1152</td>\n",
       "      <td>1188</td>\n",
       "      <td>1152</td>\n",
       "      <td>...</td>\n",
       "      <td>0</td>\n",
       "      <td>0</td>\n",
       "      <td>0</td>\n",
       "      <td>0</td>\n",
       "      <td>1</td>\n",
       "      <td>0</td>\n",
       "      <td>0</td>\n",
       "      <td>0</td>\n",
       "      <td>1</td>\n",
       "      <td>0</td>\n",
       "    </tr>\n",
       "    <tr>\n",
       "      <th>1458</th>\n",
       "      <td>20</td>\n",
       "      <td>68.0</td>\n",
       "      <td>9717</td>\n",
       "      <td>5</td>\n",
       "      <td>6</td>\n",
       "      <td>14</td>\n",
       "      <td>0.0</td>\n",
       "      <td>1078</td>\n",
       "      <td>1078</td>\n",
       "      <td>0</td>\n",
       "      <td>...</td>\n",
       "      <td>0</td>\n",
       "      <td>0</td>\n",
       "      <td>0</td>\n",
       "      <td>0</td>\n",
       "      <td>1</td>\n",
       "      <td>0</td>\n",
       "      <td>0</td>\n",
       "      <td>0</td>\n",
       "      <td>1</td>\n",
       "      <td>0</td>\n",
       "    </tr>\n",
       "    <tr>\n",
       "      <th>1459</th>\n",
       "      <td>20</td>\n",
       "      <td>75.0</td>\n",
       "      <td>9937</td>\n",
       "      <td>5</td>\n",
       "      <td>6</td>\n",
       "      <td>43</td>\n",
       "      <td>0.0</td>\n",
       "      <td>1256</td>\n",
       "      <td>1256</td>\n",
       "      <td>0</td>\n",
       "      <td>...</td>\n",
       "      <td>0</td>\n",
       "      <td>0</td>\n",
       "      <td>0</td>\n",
       "      <td>0</td>\n",
       "      <td>1</td>\n",
       "      <td>0</td>\n",
       "      <td>0</td>\n",
       "      <td>0</td>\n",
       "      <td>1</td>\n",
       "      <td>0</td>\n",
       "    </tr>\n",
       "  </tbody>\n",
       "</table>\n",
       "<p>1460 rows × 143 columns</p>\n",
       "</div>"
      ],
      "text/plain": [
       "      MSSubClass  LotFrontage  LotArea  OverallQual  OverallCond  \\\n",
       "0             60         65.0     8450            7            5   \n",
       "1             20         80.0     9600            6            8   \n",
       "2             60         68.0    11250            7            5   \n",
       "3             70         60.0     9550            7            5   \n",
       "4             60         84.0    14260            8            5   \n",
       "...          ...          ...      ...          ...          ...   \n",
       "1455          60         62.0     7917            6            5   \n",
       "1456          20         85.0    13175            6            6   \n",
       "1457          70         66.0     9042            7            9   \n",
       "1458          20         68.0     9717            5            6   \n",
       "1459          20         75.0     9937            5            6   \n",
       "\n",
       "      YearRemodAdd  MasVnrArea  TotalBsmtSF  1stFlrSF  2ndFlrSF  ...  \\\n",
       "0                5       196.0          856       856       854  ...   \n",
       "1               31         0.0         1262      1262         0  ...   \n",
       "2                6       162.0          920       920       866  ...   \n",
       "3               36         0.0          756       961       756  ...   \n",
       "4                8       350.0         1145      1145      1053  ...   \n",
       "...            ...         ...          ...       ...       ...  ...   \n",
       "1455             7         0.0          953       953       694  ...   \n",
       "1456            22       119.0         1542      2073         0  ...   \n",
       "1457             4         0.0         1152      1188      1152  ...   \n",
       "1458            14         0.0         1078      1078         0  ...   \n",
       "1459            43         0.0         1256      1256         0  ...   \n",
       "\n",
       "      SaleType_ConLI  SaleType_ConLw  SaleType_New  SaleType_Oth  SaleType_WD  \\\n",
       "0                  0               0             0             0            1   \n",
       "1                  0               0             0             0            1   \n",
       "2                  0               0             0             0            1   \n",
       "3                  0               0             0             0            1   \n",
       "4                  0               0             0             0            1   \n",
       "...              ...             ...           ...           ...          ...   \n",
       "1455               0               0             0             0            1   \n",
       "1456               0               0             0             0            1   \n",
       "1457               0               0             0             0            1   \n",
       "1458               0               0             0             0            1   \n",
       "1459               0               0             0             0            1   \n",
       "\n",
       "      SaleCondition_AdjLand  SaleCondition_Alloca  SaleCondition_Family  \\\n",
       "0                         0                     0                     0   \n",
       "1                         0                     0                     0   \n",
       "2                         0                     0                     0   \n",
       "3                         0                     0                     0   \n",
       "4                         0                     0                     0   \n",
       "...                     ...                   ...                   ...   \n",
       "1455                      0                     0                     0   \n",
       "1456                      0                     0                     0   \n",
       "1457                      0                     0                     0   \n",
       "1458                      0                     0                     0   \n",
       "1459                      0                     0                     0   \n",
       "\n",
       "      SaleCondition_Normal  SaleCondition_Partial  \n",
       "0                        1                      0  \n",
       "1                        1                      0  \n",
       "2                        1                      0  \n",
       "3                        0                      0  \n",
       "4                        1                      0  \n",
       "...                    ...                    ...  \n",
       "1455                     1                      0  \n",
       "1456                     1                      0  \n",
       "1457                     1                      0  \n",
       "1458                     1                      0  \n",
       "1459                     1                      0  \n",
       "\n",
       "[1460 rows x 143 columns]"
      ]
     },
     "execution_count": 110,
     "metadata": {},
     "output_type": "execute_result"
    }
   ],
   "source": [
    "df_cleaned"
   ]
  },
  {
   "cell_type": "markdown",
   "id": "878cf90f",
   "metadata": {},
   "source": [
    "## Train Test Split"
   ]
  },
  {
   "cell_type": "markdown",
   "id": "9a3a0c8b",
   "metadata": {},
   "source": [
    "The overall dataset size has around 1460 records. Comparitively its a small dataset so we will try to split data into 70:30 ratio."
   ]
  },
  {
   "cell_type": "code",
   "execution_count": 111,
   "id": "9e048ebb",
   "metadata": {},
   "outputs": [],
   "source": [
    "np.random.seed(0)\n",
    "\n",
    "X_train, X_test = train_test_split(df_cleaned, test_size=0.3,  random_state=40)"
   ]
  },
  {
   "cell_type": "markdown",
   "id": "5e56afdc",
   "metadata": {},
   "source": [
    "### Normalizing Features"
   ]
  },
  {
   "cell_type": "markdown",
   "id": "6732cbbc",
   "metadata": {},
   "source": [
    "We are going to use MinMax Scaler to normalize the features\n",
    "\n",
    "Normalizing helps to reach minima easily"
   ]
  },
  {
   "cell_type": "code",
   "execution_count": 112,
   "id": "8dbe5fcf",
   "metadata": {},
   "outputs": [],
   "source": [
    "all_numerical_features = list(clean_df.select_dtypes(include=['float64','int64']).columns)\n",
    "\n",
    "# Scaling high valued features to range of [0,1] using MinMax Scaler\n",
    "scaler = MinMaxScaler()\n",
    "X_train[all_numerical_features] = scaler.fit_transform(X_train[all_numerical_features])\n",
    "\n",
    "# Scaling for Test Data\n",
    "scaler = MinMaxScaler()\n",
    "X_test[all_numerical_features] = scaler.fit_transform(X_test[all_numerical_features])"
   ]
  },
  {
   "cell_type": "code",
   "execution_count": 113,
   "id": "fb67454b",
   "metadata": {},
   "outputs": [],
   "source": [
    "# SalePrice is a target variable\n",
    "\n",
    "y_train = X_train.pop('SalePrice')\n",
    "y_test = X_test.pop('SalePrice')"
   ]
  },
  {
   "cell_type": "markdown",
   "id": "130d3f3a",
   "metadata": {},
   "source": [
    "## RFE for Variable Selection"
   ]
  },
  {
   "cell_type": "code",
   "execution_count": 114,
   "id": "da86550a",
   "metadata": {},
   "outputs": [
    {
     "data": {
      "text/plain": [
       "(1022, 142)"
      ]
     },
     "execution_count": 114,
     "metadata": {},
     "output_type": "execute_result"
    }
   ],
   "source": [
    "X_train.shape"
   ]
  },
  {
   "cell_type": "markdown",
   "id": "8ef2dc33",
   "metadata": {},
   "source": [
    "We have 94 features for model building."
   ]
  },
  {
   "cell_type": "markdown",
   "id": "406a4e22",
   "metadata": {},
   "source": [
    "\n",
    "\n",
    "We will reduce the features to 30 using RFE"
   ]
  },
  {
   "cell_type": "code",
   "execution_count": 115,
   "id": "a671f2a1",
   "metadata": {},
   "outputs": [
    {
     "data": {
      "text/plain": [
       "LinearRegression()"
      ]
     },
     "execution_count": 115,
     "metadata": {},
     "output_type": "execute_result"
    }
   ],
   "source": [
    "regressor = LinearRegression()\n",
    "regressor.fit(X_train, y_train)"
   ]
  },
  {
   "cell_type": "code",
   "execution_count": 119,
   "id": "ab6315fe",
   "metadata": {},
   "outputs": [],
   "source": [
    "# Selecting 30 features through RFE \n",
    "features = RFE(regressor,n_features_to_select=35)"
   ]
  },
  {
   "cell_type": "code",
   "execution_count": 120,
   "id": "eb771ffc",
   "metadata": {},
   "outputs": [],
   "source": [
    "rfe = features.fit(X_train, y_train)"
   ]
  },
  {
   "cell_type": "code",
   "execution_count": 121,
   "id": "7ab21e96",
   "metadata": {},
   "outputs": [
    {
     "data": {
      "text/plain": [
       "[('MSSubClass', True, 1),\n",
       " ('LotFrontage', True, 1),\n",
       " ('LotArea', True, 1),\n",
       " ('OverallQual', True, 1),\n",
       " ('OverallCond', True, 1),\n",
       " ('YearRemodAdd', False, 27),\n",
       " ('MasVnrArea', True, 1),\n",
       " ('TotalBsmtSF', True, 1),\n",
       " ('1stFlrSF', False, 87),\n",
       " ('2ndFlrSF', False, 7),\n",
       " ('GrLivArea', True, 1),\n",
       " ('BsmtFullBath', True, 1),\n",
       " ('FullBath', False, 30),\n",
       " ('HalfBath', False, 41),\n",
       " ('BedroomAbvGr', True, 1),\n",
       " ('TotRmsAbvGrd', False, 5),\n",
       " ('Fireplaces', False, 28),\n",
       " ('GarageCars', True, 1),\n",
       " ('WoodDeckSF', False, 33),\n",
       " ('OpenPorchSF', False, 93),\n",
       " ('EnclosedPorch', False, 97),\n",
       " ('PoolArea', False, 24),\n",
       " ('MoSold', False, 38),\n",
       " ('MSZoning_FV', True, 1),\n",
       " ('MSZoning_RH', True, 1),\n",
       " ('MSZoning_RL', True, 1),\n",
       " ('MSZoning_RM', True, 1),\n",
       " ('LotShape_IR2', False, 10),\n",
       " ('LotShape_IR3', True, 1),\n",
       " ('LotShape_Reg', False, 100),\n",
       " ('LandContour_HLS', True, 1),\n",
       " ('LandContour_Low', True, 1),\n",
       " ('LandContour_Lvl', True, 1),\n",
       " ('LotConfig_CulDSac', False, 76),\n",
       " ('LotConfig_FR2', False, 47),\n",
       " ('LotConfig_FR3', True, 1),\n",
       " ('LotConfig_Inside', False, 105),\n",
       " ('Neighborhood_Blueste', False, 19),\n",
       " ('Neighborhood_BrDale', False, 54),\n",
       " ('Neighborhood_BrkSide', False, 106),\n",
       " ('Neighborhood_ClearCr', False, 82),\n",
       " ('Neighborhood_CollgCr', False, 103),\n",
       " ('Neighborhood_Crawfor', False, 8),\n",
       " ('Neighborhood_Edwards', False, 22),\n",
       " ('Neighborhood_Gilbert', False, 107),\n",
       " ('Neighborhood_IDOTRR', False, 98),\n",
       " ('Neighborhood_MeadowV', False, 84),\n",
       " ('Neighborhood_Mitchel', False, 48),\n",
       " ('Neighborhood_NAmes', False, 49),\n",
       " ('Neighborhood_NPkVill', False, 25),\n",
       " ('Neighborhood_NWAmes', False, 39),\n",
       " ('Neighborhood_NoRidge', True, 1),\n",
       " ('Neighborhood_NridgHt', True, 1),\n",
       " ('Neighborhood_OldTown', True, 1),\n",
       " ('Neighborhood_SWISU', False, 50),\n",
       " ('Neighborhood_Sawyer', False, 51),\n",
       " ('Neighborhood_SawyerW', False, 86),\n",
       " ('Neighborhood_Somerst', False, 20),\n",
       " ('Neighborhood_StoneBr', True, 1),\n",
       " ('Neighborhood_Timber', False, 108),\n",
       " ('Neighborhood_Veenker', False, 35),\n",
       " ('BldgType_2fmCon', True, 1),\n",
       " ('BldgType_Duplex', False, 44),\n",
       " ('BldgType_Twnhs', False, 42),\n",
       " ('BldgType_TwnhsE', False, 43),\n",
       " ('HouseStyle_1.5Unf', False, 26),\n",
       " ('HouseStyle_1Story', False, 16),\n",
       " ('HouseStyle_2.5Fin', False, 29),\n",
       " ('HouseStyle_2.5Unf', False, 95),\n",
       " ('HouseStyle_2Story', False, 46),\n",
       " ('HouseStyle_SFoyer', False, 21),\n",
       " ('HouseStyle_SLvl', False, 15),\n",
       " ('RoofStyle_Gable', False, 56),\n",
       " ('RoofStyle_Gambrel', True, 1),\n",
       " ('RoofStyle_Hip', False, 55),\n",
       " ('RoofStyle_Mansard', False, 57),\n",
       " ('RoofStyle_Shed', False, 4),\n",
       " ('Exterior1st_AsphShn', False, 80),\n",
       " ('Exterior1st_BrkComm', False, 53),\n",
       " ('Exterior1st_BrkFace', False, 2),\n",
       " ('Exterior1st_CBlock', False, 14),\n",
       " ('Exterior1st_CemntBd', False, 74),\n",
       " ('Exterior1st_HdBoard', False, 75),\n",
       " ('Exterior1st_ImStucc', True, 1),\n",
       " ('Exterior1st_MetalSd', False, 63),\n",
       " ('Exterior1st_Plywood', False, 88),\n",
       " ('Exterior1st_Stone', True, 1),\n",
       " ('Exterior1st_Stucco', False, 79),\n",
       " ('Exterior1st_VinylSd', False, 71),\n",
       " ('Exterior1st_Wd Sdng', False, 60),\n",
       " ('Exterior1st_WdShing', False, 81),\n",
       " ('Exterior2nd_AsphShn', False, 78),\n",
       " ('Exterior2nd_Brk Cmn', False, 52),\n",
       " ('Exterior2nd_BrkFace', False, 92),\n",
       " ('Exterior2nd_CBlock', False, 18),\n",
       " ('Exterior2nd_CmentBd', False, 37),\n",
       " ('Exterior2nd_HdBoard', False, 83),\n",
       " ('Exterior2nd_ImStucc', True, 1),\n",
       " ('Exterior2nd_MetalSd', False, 62),\n",
       " ('Exterior2nd_Other', True, 1),\n",
       " ('Exterior2nd_Plywood', False, 91),\n",
       " ('Exterior2nd_Stone', False, 3),\n",
       " ('Exterior2nd_Stucco', True, 1),\n",
       " ('Exterior2nd_VinylSd', False, 70),\n",
       " ('Exterior2nd_Wd Sdng', False, 61),\n",
       " ('Exterior2nd_Wd Shng', False, 90),\n",
       " ('MasVnrType_None', False, 102),\n",
       " ('MasVnrType_Stone', False, 104),\n",
       " ('Foundation_CBlock', False, 67),\n",
       " ('Foundation_PConc', False, 64),\n",
       " ('Foundation_Slab', False, 66),\n",
       " ('Foundation_Stone', True, 1),\n",
       " ('Foundation_Wood', False, 99),\n",
       " ('BsmtExposure_Yes', False, 9),\n",
       " ('BsmtFinType1_BLQ', False, 101),\n",
       " ('BsmtFinType1_GLQ', False, 77),\n",
       " ('BsmtFinType1_LwQ', False, 89),\n",
       " ('BsmtFinType1_No Basement', False, 65),\n",
       " ('BsmtFinType1_Rec', False, 94),\n",
       " ('BsmtFinType1_Unf', False, 40),\n",
       " ('GarageType_Attchd', False, 32),\n",
       " ('GarageType_Basment', False, 34),\n",
       " ('GarageType_BuiltIn', False, 36),\n",
       " ('GarageType_CarPort', False, 58),\n",
       " ('GarageType_Detchd', False, 31),\n",
       " ('GarageType_No Garage', True, 1),\n",
       " ('GarageFinish_No Garage', False, 17),\n",
       " ('GarageFinish_RFn', False, 68),\n",
       " ('GarageFinish_Unf', False, 69),\n",
       " ('SaleType_CWD', True, 1),\n",
       " ('SaleType_Con', True, 1),\n",
       " ('SaleType_ConLD', False, 11),\n",
       " ('SaleType_ConLI', False, 72),\n",
       " ('SaleType_ConLw', False, 96),\n",
       " ('SaleType_New', False, 12),\n",
       " ('SaleType_Oth', False, 6),\n",
       " ('SaleType_WD', False, 73),\n",
       " ('SaleCondition_AdjLand', False, 23),\n",
       " ('SaleCondition_Alloca', False, 45),\n",
       " ('SaleCondition_Family', False, 59),\n",
       " ('SaleCondition_Normal', False, 85),\n",
       " ('SaleCondition_Partial', False, 13)]"
      ]
     },
     "execution_count": 121,
     "metadata": {},
     "output_type": "execute_result"
    }
   ],
   "source": [
    "rfe_list = list(zip(X_train.columns, rfe.support_, rfe.ranking_))\n",
    "rfe_list "
   ]
  },
  {
   "cell_type": "code",
   "execution_count": 122,
   "id": "1047cd52",
   "metadata": {},
   "outputs": [],
   "source": [
    "# list of only top 30 featuers \n",
    "rfe_selected = [r[0] for r in rfe_list if r[1] == True]"
   ]
  },
  {
   "cell_type": "code",
   "execution_count": 123,
   "id": "26bb9085",
   "metadata": {},
   "outputs": [
    {
     "data": {
      "text/plain": [
       "['MSSubClass',\n",
       " 'LotFrontage',\n",
       " 'LotArea',\n",
       " 'OverallQual',\n",
       " 'OverallCond',\n",
       " 'MasVnrArea',\n",
       " 'TotalBsmtSF',\n",
       " 'GrLivArea',\n",
       " 'BsmtFullBath',\n",
       " 'BedroomAbvGr',\n",
       " 'GarageCars',\n",
       " 'MSZoning_FV',\n",
       " 'MSZoning_RH',\n",
       " 'MSZoning_RL',\n",
       " 'MSZoning_RM',\n",
       " 'LotShape_IR3',\n",
       " 'LandContour_HLS',\n",
       " 'LandContour_Low',\n",
       " 'LandContour_Lvl',\n",
       " 'LotConfig_FR3',\n",
       " 'Neighborhood_NoRidge',\n",
       " 'Neighborhood_NridgHt',\n",
       " 'Neighborhood_OldTown',\n",
       " 'Neighborhood_StoneBr',\n",
       " 'BldgType_2fmCon',\n",
       " 'RoofStyle_Gambrel',\n",
       " 'Exterior1st_ImStucc',\n",
       " 'Exterior1st_Stone',\n",
       " 'Exterior2nd_ImStucc',\n",
       " 'Exterior2nd_Other',\n",
       " 'Exterior2nd_Stucco',\n",
       " 'Foundation_Stone',\n",
       " 'GarageType_No Garage',\n",
       " 'SaleType_CWD',\n",
       " 'SaleType_Con']"
      ]
     },
     "execution_count": 123,
     "metadata": {},
     "output_type": "execute_result"
    }
   ],
   "source": [
    "rfe_selected"
   ]
  },
  {
   "cell_type": "code",
   "execution_count": null,
   "id": "61c8965c",
   "metadata": {},
   "outputs": [],
   "source": []
  }
 ],
 "metadata": {
  "kernelspec": {
   "display_name": "Python 3 (ipykernel)",
   "language": "python",
   "name": "python3"
  },
  "language_info": {
   "codemirror_mode": {
    "name": "ipython",
    "version": 3
   },
   "file_extension": ".py",
   "mimetype": "text/x-python",
   "name": "python",
   "nbconvert_exporter": "python",
   "pygments_lexer": "ipython3",
   "version": "3.9.12"
  }
 },
 "nbformat": 4,
 "nbformat_minor": 5
}
